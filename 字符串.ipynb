{
 "cells": [
  {
   "cell_type": "markdown",
   "source": [
    "1.实现函数 ToLowerCase()，该函数接收一个字符串参数 str，\n",
    "并将该字符串中的大写字母转换成小写字母，之后返回新的字符串。\n",
    "str.lower() python\n",
    "str.toLowerCase() java"
   ],
   "metadata": {
    "collapsed": false
   }
  },
  {
   "cell_type": "code",
   "execution_count": null,
   "metadata": {
    "collapsed": true
   },
   "outputs": [],
   "source": [
    "print(ord('A'), ord('a'))"
   ]
  },
  {
   "cell_type": "code",
   "execution_count": null,
   "outputs": [],
   "source": [
    "def toLowerCase(str):\n",
    "    result = ''\n",
    "    for temp in str:\n",
    "        if 65<=ord(temp) and ord(temp)<=90:\n",
    "            s = chr(ord(temp) + 32)\n",
    "            result += s\n",
    "        else:\n",
    "            result += temp\n",
    "    return result"
   ],
   "metadata": {
    "collapsed": false,
    "pycharm": {
     "name": "#%%\n"
    }
   }
  },
  {
   "cell_type": "markdown",
   "source": [
    "2.国际摩尔斯密码定义一种标准编码方式，将每个字母对应于一个由一系列点和短线组成的字符串， 比如: \"a\" 对应 \".-\", \"b\" 对应 \"-...\", \"c\" 对应 \"-.-.\", 等等。\n",
    "为了方便，所有26个英文字母对应摩尔斯密码表如下：\n",
    "[\".-\",\"-...\",\"-.-.\",\"-..\",\".\",\"..-.\",\"--.\",\"....\",\"..\",\".---\",\"-.-\",\".-..\",\"--\",\"-.\",\"---\",\".--.\",\"--.-\",\".-.\",\"...\",\"-\",\"..-\",\"...-\",\".--\",\"-..-\",\"-.--\",\"--..\"]\n",
    "给定一个单词列表，每个单词可以写成每个字母对应摩尔斯密码的组合。例如，\"cab\" 可以写成 \"-.-..--...\"，(即 \"-.-.\" + \"-...\" + \".-\"字符串的结合)。我们将这样一个连接过程称作单词翻译。\n",
    "返回我们可以获得所有词不同单词翻译的数量\n",
    "来源：力扣（LeetCode）\n",
    "链接：https://leetcode-cn.com/problems/unique-morse-code-words\n"
   ],
   "metadata": {
    "collapsed": false
   }
  },
  {
   "cell_type": "code",
   "execution_count": 11,
   "outputs": [
    {
     "data": {
      "text/plain": "3"
     },
     "metadata": {},
     "output_type": "execute_result",
     "execution_count": 11
    }
   ],
   "source": [
    "\n",
    "def uniqueMorseRepresentations(words):\n",
    "    MORSE = [\".-\",\"-...\",\"-.-.\",\"-..\",\".\",\"..-.\",\"--.\",\n",
    "                 \"....\",\"..\",\".---\",\"-.-\",\".-..\",\"--\",\"-.\",\n",
    "                 \"---\",\".--.\",\"--.-\",\".-.\",\"...\",\"-\",\"..-\",\n",
    "                 \"...-\",\".--\",\"-..-\",\"-.--\",\"--..\"]\n",
    "\n",
    "    # seen = {\"\".join(MORSE[ord(c) - ord('a')] for c in word)\n",
    "    #             for word in words}\n",
    "    seen = \"\"\n",
    "    for word in words:\n",
    "            for c in word:\n",
    "                seen = \"\".join(MORSE[ord(c) - ord('a') ])\n",
    "    #             print(seen)\n",
    "    # print(seen)\n",
    "\n",
    "    return len(seen)\n",
    "uniqueMorseRepresentations([\"gin\", \"zen\", \"gig\", \"msg\"])\n",
    "# 作者：LeetCode\n",
    "# 链接：https://leetcode-cn.com/problems/unique-morse-code-words/solution/wei-yi-mo-er-si-mi-ma-ci-by-leetcode/\n"
   ],
   "metadata": {
    "collapsed": false,
    "pycharm": {
     "name": "#%%\n",
     "is_executing": false
    }
   }
  },
  {
   "cell_type": "markdown",
   "source": [
    "3.在二维平面上，有一个机器人从原点 (0, 0) 开始。给出它的移动顺序，判断这个机器人在完成移动后是否在 (0, 0) 处结束。\n",
    "移动顺序由字符串表示。字符 move[i] 表示其第 i 次移动。机器人的有效动作有 R（右），L（左），U（上）和 D（下）。如果机器人在完成所有动作后返回原点，则返回 true。否则，返回 false。\n",
    "注意：机器人“面朝”的方向无关紧要。 “R” 将始终使机器人向右移动一次，“L” 将始终向左移动等。此外，假设每次移动机器人的移动幅度相同。\n",
    "以平面坐标 （x，y）判断位置"
   ],
   "metadata": {
    "collapsed": false
   }
  },
  {
   "cell_type": "code",
   "execution_count": null,
   "outputs": [],
   "source": [
    "def judgeCircle(self, moves):\n",
    "    \"\"\" \n",
    "    :param moves: str \n",
    "    :return: \n",
    "    \"\"\"\n",
    "    x = 0\n",
    "    y = 0\n",
    "    for move in moves:\n",
    "        if move == 'U':\n",
    "            y += 1\n",
    "        if move == 'D':\n",
    "            y -= 1\n",
    "        if move == 'R':\n",
    "            x += 1\n",
    "        if move == 'L':\n",
    "            x -= 1\n",
    "    return x==0 and y ==0"
   ],
   "metadata": {
    "collapsed": false,
    "pycharm": {
     "name": "#%%\n"
    }
   }
  },
  {
   "cell_type": "markdown",
   "source": [
    "4.给定一个字符串，你需要反转字符串中每个单词的字符顺序，同时仍保留空格和单词的初始顺序"
   ],
   "metadata": {
    "collapsed": false
   }
  },
  {
   "cell_type": "code",
   "execution_count": 21,
   "outputs": [
    {
     "data": {
      "text/plain": "['l', 'd', 's']"
     },
     "metadata": {},
     "output_type": "execute_result",
     "execution_count": 21
    }
   ],
   "source": [
    "s = \"Let's take LeetCode contest\"\n",
    "c = s.split(' ')\n",
    "c\n",
    "s[::-1]\n",
    "l = ['s','d','l']\n",
    "ls = l[::-1]\n",
    "ls"
   ],
   "metadata": {
    "collapsed": false,
    "pycharm": {
     "name": "#%%\n",
     "is_executing": false
    }
   }
  },
  {
   "cell_type": "code",
   "execution_count": 16,
   "outputs": [
    {
     "data": {
      "text/plain": "\"s'teL ekat edoCteeL tsetnoc\""
     },
     "metadata": {},
     "output_type": "execute_result",
     "execution_count": 16
    }
   ],
   "source": [
    "# 两次翻转\n",
    "def reverseWords(s):\n",
    "    return ' '.join(s.split(' ')[::-1])[::-1]\n",
    "reverseWords(\"Let's take LeetCode contest\")"
   ],
   "metadata": {
    "collapsed": false,
    "pycharm": {
     "name": "#%%\n",
     "is_executing": false
    }
   }
  },
  {
   "cell_type": "markdown",
   "source": [
    "5编写一个函数，其作用是将输入的字符串反转过来。输入字符串以字符数组 char[] 的形式给出。\n",
    "\n",
    "不要给另外的数组分配额外的空间，你必须原地修改输入数组、使用 O(1) 的额外空间解决这一问题。\n"
   ],
   "metadata": {
    "collapsed": false
   }
  },
  {
   "cell_type": "code",
   "execution_count": null,
   "outputs": [],
   "source": [
    "# 递归解法\n",
    "# 时间复杂度：\\mathcal{O}(N)O(N)。执行了 N/2N/2 次的交换。\n",
    "# 空间复杂度：\\mathcal{O}(N)O(N)，递归过程中使用的堆栈空间。\n",
    "\n",
    "def reverseWords(s):\n",
    "    def helper(left, right):\n",
    "        if left < right:\n",
    "            s[left], s[right] = s[right], s[left]\n",
    "            helper(left+1,right-1)\n",
    "    helper(0, len(s) - 1)\n",
    "    "
   ],
   "metadata": {
    "collapsed": false,
    "pycharm": {
     "name": "#%%\n"
    }
   }
  },
  {
   "cell_type": "code",
   "execution_count": null,
   "outputs": [],
   "source": [
    "# reverse()\n",
    "def reverseWords(s):\n",
    "    s.reverse()"
   ],
   "metadata": {
    "collapsed": false,
    "pycharm": {
     "name": "#%%\n"
    }
   }
  },
  {
   "cell_type": "code",
   "execution_count": 24,
   "outputs": [
    {
     "data": {
      "text/plain": "['o', 'l', 'l', 'e', 'h']"
     },
     "metadata": {},
     "output_type": "execute_result",
     "execution_count": 24
    }
   ],
   "source": [
    "# 双指针法\n",
    "# 时间复杂度：\\mathcal{O}(N)O(N)。执行了 N/2N/2 次的交换。\n",
    "# 空间复杂度：\\mathcal{O}(1)O(1)，只使用了常数级空间。\n",
    "def reverseWords(s):\n",
    "    left, right = 0, len(s)-1\n",
    "    while left < right:\n",
    "        s[left], s[right] = s[right], s[left]\n",
    "        left, right = left + 1, right - 1\n",
    "    return s\n",
    "reverseWords([\"h\",\"e\",\"l\",\"l\",\"o\"])\n",
    "\n"
   ],
   "metadata": {
    "collapsed": false,
    "pycharm": {
     "name": "#%%\n",
     "is_executing": false
    }
   }
  },
  {
   "cell_type": "markdown",
   "source": [
    "5.每封电子邮件都由一个本地名称和一个域名组成，以 @ 符号分隔。\n",
    "\n",
    "例如，在 alice@leetcode.com中， alice 是本地名称，而 leetcode.com 是域名。\n",
    "\n",
    "除了小写字母，这些电子邮件还可能包含 '.' 或 '+'。\n",
    "\n",
    "如果在电子邮件地址的本地名称部分中的某些字符之间添加句点（'.'），则发往那里的邮件将会转发到本地名称中没有点的同一地址。例如，\"alice.z@leetcode.com” 和 “alicez@leetcode.com” 会转发到同一电子邮件地址。 （请注意，此规则不适用于域名。）\n",
    "\n",
    "如果在本地名称中添加加号（'+'），则会忽略第一个加号后面的所有内容。这允许过滤某些电子邮件，例如 m.y+name@email.com 将转发到 my@email.com。 （同样，此规则不适用于域名。）\n",
    "\n",
    "可以同时使用这两个规则。\n",
    "\n",
    "给定电子邮件列表 emails，我们会向列表中的每个地址发送一封电子邮件。实际收到邮件的不同地址有多少？\n"
   ],
   "metadata": {
    "collapsed": false
   }
  },
  {
   "cell_type": "code",
   "execution_count": 3,
   "outputs": [
    {
     "name": "stdout",
     "text": [
      "m.y+name email.com\nmy\n"
     ],
     "output_type": "stream"
    }
   ],
   "source": [
    "email = 'm.y+name@email.com'\n",
    "local, name = email.split('@')\n",
    "print(local, name)\n",
    "local1 = local[:local.find('+')].replace('.','')\n",
    "print(local1)"
   ],
   "metadata": {
    "collapsed": false,
    "pycharm": {
     "name": "#%%\n",
     "is_executing": false
    }
   }
  },
  {
   "cell_type": "code",
   "execution_count": null,
   "outputs": [],
   "source": [
    "class Solution:\n",
    "    def numUniqueEmails(self, emails):\n",
    "        \"\"\"\n",
    "        :param emails: list[str]\n",
    "        :return: \n",
    "        \"\"\"\n",
    "        email_set = set()\n",
    "        s = ''\n",
    "        for email in emails:\n",
    "            local, name = email.split('@')\n",
    "            local1 = local[:local.find('+')].replace('.', '')\n",
    "            result = local1 + '@' + name\n",
    "            email_set.add(result)\n",
    "            \n",
    "        return email_set"
   ],
   "metadata": {
    "collapsed": false,
    "pycharm": {
     "name": "#%%\n"
    }
   }
  },
  {
   "cell_type": "markdown",
   "source": [
    "6.给你一个字符串 text，你需要使用 text 中的字母来拼凑尽可能多的单词 \"balloon\"（气球）。\n",
    "字符串 text 中的每个字母最多只能被使用一次。请你返回最多可以拼凑出多少个单词 \"balloon\"。\n",
    "遍历字符串，统计出'b','a','l','o','n'的个数，根据短板效应返回最小值（'l'和'o'的个数应除以2）\n"
   ],
   "metadata": {
    "collapsed": false
   }
  },
  {
   "cell_type": "code",
   "execution_count": null,
   "outputs": [],
   "source": [
    "class Solution:\n",
    "    def maxNumberOfBalloons(self, text):\n",
    "        \"\"\"\n",
    "        :param text:  str\n",
    "        :return: \n",
    "        \"\"\"\n",
    "        b = a = l = o = n = 0\n",
    "        for t in text:\n",
    "            if t == 'b':\n",
    "                b = b+1              \n",
    "            elif t == 'a':\n",
    "                a = a+1              \n",
    "            elif t == 'l':\n",
    "                l = l+1               \n",
    "            elif t == 'o':\n",
    "                o += 1\n",
    "            elif t == 'n':\n",
    "                n += 1\n",
    "            else:\n",
    "                continue               \n",
    "        return min(b, a, l //2, o // 2, n)"
   ],
   "metadata": {
    "collapsed": false,
    "pycharm": {
     "name": "#%%\n"
    }
   }
  },
  {
   "cell_type": "markdown",
   "source": [
    "罗马数字包含以下七种字符: I， V， X， L，C，D 和 M。\n",
    "\n",
    "字符          数值\n",
    "I             1\n",
    "V             5\n",
    "X             10\n",
    "L             50\n",
    "C             100\n",
    "D             500\n",
    "M             1000\n",
    "例如， 罗马数字 2 写做 II ，即为两个并列的 1。12 写做 XII ，即为 X + II 。 27 写做  XXVII, 即为 XX + V + II 。\n",
    "通常情况下，罗马数字中小的数字在大的数字的右边。\n",
    "这个特殊的规则只适用于以下六种情况：\n",
    "I 可以放在 V (5) 和 X (10) 的左边，来表示 4 和 9。\n",
    "X 可以放在 L (50) 和 C (100) 的左边，来表示 40 和 90。 \n",
    "C 可以放在 D (500) 和 M (1000) 的左边，来表示 400 和 900。\n",
    "给定一个罗马数字，将其转换成整数。输入确保在 1 到 3999 的范围内。\n"
   ],
   "metadata": {
    "collapsed": false
   }
  },
  {
   "cell_type": "code",
   "execution_count": null,
   "outputs": [],
   "source": [
    "    def romanToInt(s):\n",
    "        \"\"\"\n",
    "        :param s: str\n",
    "        :return: \n",
    "        \"\"\"\n",
    "        a = {'I':1,'V':5,'X':10,'L':50,'C':100,'D':500,'M':1000,'IV':4,'IX':9,'XL':40,\n",
    "        'XC':90,\n",
    "        'CD':400,'CM':900}\n",
    "        ans = 0\n",
    "        for i in range(len(s)):\n",
    "            if i < len(s) - 1 and a[s[i]] < a[s[i+1]]:\n",
    "                ans = ans - a[s[i]]\n",
    "            else:\n",
    "                ans = ans + a[s[i]]  \n",
    "        return ans"
   ],
   "metadata": {
    "collapsed": false,
    "pycharm": {
     "name": "#%%\n"
    }
   }
  },
  {
   "cell_type": "code",
   "execution_count": null,
   "outputs": [],
   "source": [
    "class Solution:\n",
    "    def romanToInt(self, s):\n",
    "        d = {'I':1, 'IV':3, 'V':5, 'IX':8, 'X':10, 'XL':30, 'L':50, 'XC':80, 'C':100, 'CD':300, 'D':500, 'CM':800, 'M':1000}\n",
    "        return sum(d.get(s[max(i-1, 0):i+1], d[n]) for i, n in enumerate(s))\n",
    "        # dic = {'I':1,'V':5,'X':10,'L':50,'C':100,'D':500,'M':1000}\n",
    "        # return sum (-dic[s[i]] if i < len(s)-1 and dic[s[i]]<dic[s[i+1]] else dic[s[i]] for i, n in enumerate(s))"
   ],
   "metadata": {
    "collapsed": false,
    "pycharm": {
     "name": "#%%\n"
    }
   }
  },
  {
   "cell_type": "code",
   "execution_count": null,
   "outputs": [],
   "source": [],
   "metadata": {
    "collapsed": false,
    "pycharm": {
     "name": "#%%\n"
    }
   }
  },
  {
   "cell_type": "code",
   "execution_count": 4,
   "outputs": [
    {
     "name": "stdout",
     "text": [
      "0 s\n1 d\n2 f\n3 e\n4 f\n5 g\n"
     ],
     "output_type": "stream"
    }
   ],
   "source": [
    "d = {'I':1, 'IV':3, 'V':5, 'IX':8, 'X':10, 'XL':30, 'L':50, 'XC':80, 'C':100, 'CD':300, 'D':500, 'CM':800, 'M':1000}\n",
    "for i, n in enumerate('sdfefg'):\n",
    "    print(i, n)\n",
    "    "
   ],
   "metadata": {
    "collapsed": false,
    "pycharm": {
     "name": "#%%\n",
     "is_executing": false
    }
   }
  },
  {
   "cell_type": "markdown",
   "source": [
    "9 回文数\n",
    "判断一个整数是否是回文数。回文数是指正序（从左向右）和倒序（从右向左）读都是一样的整数。"
   ],
   "metadata": {
    "collapsed": false
   }
  },
  {
   "cell_type": "code",
   "execution_count": null,
   "outputs": [],
   "source": [
    "# 栈 + 字符串\n",
    "def isPalindrome(x):\n",
    "    \"\"\"\n",
    "    :param self: \n",
    "    :param x:  int\n",
    "    :return: \n",
    "    \"\"\"\n",
    "    stack = []\n",
    "    s = str(x)\n",
    "    for j in s:\n",
    "        stack.append(j)\n",
    "    for i in s:\n",
    "        while i != stack.pop() and len(stack) != 0:\n",
    "            return False\n",
    "    return True"
   ],
   "metadata": {
    "collapsed": false,
    "pycharm": {
     "name": "#%%\n"
    }
   }
  },
  {
   "cell_type": "code",
   "execution_count": null,
   "outputs": [],
   "source": [
    "# 字符串\n",
    "def isPalindrome(x):\n",
    "    \"\"\"\n",
    "    :param self: \n",
    "    :param x:  int\n",
    "    :return: \n",
    "    \"\"\"\n",
    "    return str(x) == str(x)[::-1]"
   ],
   "metadata": {
    "collapsed": false,
    "pycharm": {
     "name": "#%%\n"
    }
   }
  },
  {
   "cell_type": "code",
   "execution_count": 12,
   "outputs": [
    {
     "name": "stdout",
     "text": [
      "1\n12\n12\n1\n121\n0\n121 121\nTrue\n"
     ],
     "output_type": "stream"
    }
   ],
   "source": [
    "# 将数字倒转\n",
    "def isPalindrome(x):\n",
    "    \"\"\"\n",
    "    :param x: int \n",
    "    :return: \n",
    "    \"\"\"\n",
    "    cur = 0\n",
    "    if x < 0:\n",
    "        return False\n",
    "    elif x / 10 == 0:\n",
    "        return True\n",
    "    num = x\n",
    "    while num != 0:\n",
    "        cur = cur * 10 + num % 10\n",
    "        num = int(num / 10)\n",
    "    return cur == x\n",
    "\n",
    "print(isPalindrome(121))"
   ],
   "metadata": {
    "collapsed": false,
    "pycharm": {
     "name": "#%%\n",
     "is_executing": false
    }
   }
  },
  {
   "cell_type": "markdown",
   "source": [
    "11 盛水最多的容器\n",
    "给定 n 个非负整数 a1，a2，...，an，每个数代表坐标中的一个点 (i, ai) 。\n",
    "在坐标内画 n 条垂直线，垂直线 i 的两个端点分别为 (i, ai) 和 (i, 0)。\n",
    "找出其中的两条线，使得它们与 x 轴共同构成的容器可以容纳最多的水。\n",
    "说明：你不能倾斜容器，且 n 的值至少为 2。\n",
    "来源：力扣（LeetCode）\n",
    "链接：https://leetcode-cn.com/problems/container-with-most-water\n"
   ],
   "metadata": {
    "collapsed": false
   }
  },
  {
   "cell_type": "code",
   "execution_count": null,
   "outputs": [],
   "source": [
    "# 双指针法\n",
    "def maxArea(height):\n",
    "    \"\"\"\n",
    "    :param height: List[int] \n",
    "    :return: \n",
    "    \"\"\"\n",
    "    left, right, res = 0, len(height) - 1, 0\n",
    "    while left < right:\n",
    "        if height[left] < height[right]:\n",
    "            res = max(res, height[left] * (right - left))\n",
    "            left += 1\n",
    "        else:\n",
    "            res = max(res, height[right] * (right - left))\n",
    "            right -= 1\n",
    "    return res"
   ],
   "metadata": {
    "collapsed": false,
    "pycharm": {
     "name": "#%%\n"
    }
   }
  },
  {
   "cell_type": "markdown",
   "source": [
    "14 最长公共前缀\n",
    "编写一个函数来查找字符串数组中的最长公共前缀。\n",
    "如果不存在公共前缀，返回空字符串 \"\"。"
   ],
   "metadata": {
    "collapsed": false
   }
  },
  {
   "cell_type": "code",
   "execution_count": 27,
   "outputs": [
    {
     "name": "stdout",
     "text": [
      "fl\n"
     ],
     "output_type": "stream"
    }
   ],
   "source": [
    "# 水平扫描法\n",
    "def longestCommonPrefix(strs):\n",
    "    if len(strs) == 0:\n",
    "        return \"\"\n",
    "    prefix = strs[0]\n",
    "    for i in range(1,len(strs)):\n",
    "        while strs[i][0:len(prefix)] != prefix:\n",
    "            # print(prefix, strs[i])\n",
    "            prefix = prefix[0:len(prefix) - 1]\n",
    "            if len(prefix) == 0:\n",
    "                return \"\"\n",
    "    return prefix\n",
    "print(longestCommonPrefix([\"flower\",\"flow\",\"flight\"]))    "
   ],
   "metadata": {
    "collapsed": false,
    "pycharm": {
     "name": "#%%\n",
     "is_executing": false
    }
   }
  },
  {
   "cell_type": "code",
   "execution_count": 30,
   "outputs": [
    {
     "traceback": [
      "\u001b[1;31m---------------------------------------------------------------------------\u001b[0m",
      "\u001b[1;31mRecursionError\u001b[0m                            Traceback (most recent call last)",
      "\u001b[1;32m<ipython-input-30-2902d0d2dd7d>\u001b[0m in \u001b[0;36m<module>\u001b[1;34m\u001b[0m\n\u001b[0;32m     25\u001b[0m     \u001b[1;32mreturn\u001b[0m \u001b[0mpreLeft\u001b[0m\u001b[1;33m[\u001b[0m\u001b[1;36m0\u001b[0m\u001b[1;33m:\u001b[0m\u001b[0mmin\u001b[0m\u001b[1;33m]\u001b[0m\u001b[1;33m\u001b[0m\u001b[0m\n\u001b[0;32m     26\u001b[0m \u001b[1;33m\u001b[0m\u001b[0m\n\u001b[1;32m---> 27\u001b[1;33m \u001b[0mprint\u001b[0m\u001b[1;33m(\u001b[0m\u001b[0mtest\u001b[0m\u001b[1;33m(\u001b[0m\u001b[1;33m[\u001b[0m\u001b[1;34m\"flower\"\u001b[0m\u001b[1;33m,\u001b[0m\u001b[1;34m\"flow\"\u001b[0m\u001b[1;33m,\u001b[0m\u001b[1;34m\"flight\"\u001b[0m\u001b[1;33m]\u001b[0m\u001b[1;33m)\u001b[0m\u001b[1;33m)\u001b[0m\u001b[1;33m\u001b[0m\u001b[0m\n\u001b[0m",
      "\u001b[1;32m<ipython-input-30-2902d0d2dd7d>\u001b[0m in \u001b[0;36mtest\u001b[1;34m(strs)\u001b[0m\n\u001b[0;32m      3\u001b[0m     \u001b[1;32mif\u001b[0m \u001b[0mlen\u001b[0m\u001b[1;33m(\u001b[0m\u001b[0mstrs\u001b[0m\u001b[1;33m)\u001b[0m \u001b[1;33m==\u001b[0m \u001b[1;36m0\u001b[0m\u001b[1;33m:\u001b[0m\u001b[1;33m\u001b[0m\u001b[0m\n\u001b[0;32m      4\u001b[0m         \u001b[1;32mreturn\u001b[0m \u001b[1;34m\"\"\u001b[0m\u001b[1;33m\u001b[0m\u001b[0m\n\u001b[1;32m----> 5\u001b[1;33m     \u001b[1;32mreturn\u001b[0m \u001b[0mlongestCommonPrefix\u001b[0m\u001b[1;33m(\u001b[0m\u001b[0mstrs\u001b[0m\u001b[1;33m,\u001b[0m \u001b[1;36m0\u001b[0m\u001b[1;33m,\u001b[0m \u001b[0mlen\u001b[0m\u001b[1;33m(\u001b[0m\u001b[0mstrs\u001b[0m\u001b[1;33m)\u001b[0m \u001b[1;33m)\u001b[0m\u001b[1;33m\u001b[0m\u001b[0m\n\u001b[0m\u001b[0;32m      6\u001b[0m \u001b[1;33m\u001b[0m\u001b[0m\n\u001b[0;32m      7\u001b[0m \u001b[1;32mdef\u001b[0m \u001b[0mlongestCommonPrefix\u001b[0m\u001b[1;33m(\u001b[0m\u001b[0mstrs\u001b[0m\u001b[1;33m,\u001b[0m\u001b[0ml\u001b[0m\u001b[1;33m,\u001b[0m \u001b[0mr\u001b[0m\u001b[1;33m)\u001b[0m\u001b[1;33m:\u001b[0m\u001b[1;33m\u001b[0m\u001b[0m\n",
      "\u001b[1;32m<ipython-input-30-2902d0d2dd7d>\u001b[0m in \u001b[0;36mlongestCommonPrefix\u001b[1;34m(strs, l, r)\u001b[0m\n\u001b[0;32m     12\u001b[0m     \u001b[1;32melse\u001b[0m\u001b[1;33m:\u001b[0m\u001b[1;33m\u001b[0m\u001b[0m\n\u001b[0;32m     13\u001b[0m         \u001b[0mmid\u001b[0m \u001b[1;33m=\u001b[0m \u001b[1;33m(\u001b[0m\u001b[0ml\u001b[0m \u001b[1;33m+\u001b[0m \u001b[0mr\u001b[0m\u001b[1;33m)\u001b[0m \u001b[1;33m/\u001b[0m \u001b[1;36m2\u001b[0m\u001b[1;33m\u001b[0m\u001b[0m\n\u001b[1;32m---> 14\u001b[1;33m         \u001b[0mpreLeft\u001b[0m \u001b[1;33m=\u001b[0m \u001b[0mlongestCommonPrefix\u001b[0m\u001b[1;33m(\u001b[0m\u001b[0mstrs\u001b[0m\u001b[1;33m,\u001b[0m \u001b[0ml\u001b[0m\u001b[1;33m,\u001b[0m \u001b[0mmid\u001b[0m\u001b[1;33m)\u001b[0m\u001b[1;33m\u001b[0m\u001b[0m\n\u001b[0m\u001b[0;32m     15\u001b[0m         \u001b[0mpreRight\u001b[0m \u001b[1;33m=\u001b[0m \u001b[0mlongestCommonPrefix\u001b[0m\u001b[1;33m(\u001b[0m\u001b[0mstrs\u001b[0m\u001b[1;33m,\u001b[0m \u001b[0mmid\u001b[0m \u001b[1;33m+\u001b[0m \u001b[1;36m1\u001b[0m\u001b[1;33m,\u001b[0m \u001b[0mr\u001b[0m\u001b[1;33m)\u001b[0m\u001b[1;33m\u001b[0m\u001b[0m\n\u001b[0;32m     16\u001b[0m         \u001b[1;32mreturn\u001b[0m \u001b[0mcommonPrefix\u001b[0m\u001b[1;33m(\u001b[0m\u001b[0mpreLeft\u001b[0m\u001b[1;33m,\u001b[0m \u001b[0mpreRight\u001b[0m\u001b[1;33m)\u001b[0m\u001b[1;33m\u001b[0m\u001b[0m\n",
      "... last 1 frames repeated, from the frame below ...\n",
      "\u001b[1;32m<ipython-input-30-2902d0d2dd7d>\u001b[0m in \u001b[0;36mlongestCommonPrefix\u001b[1;34m(strs, l, r)\u001b[0m\n\u001b[0;32m     12\u001b[0m     \u001b[1;32melse\u001b[0m\u001b[1;33m:\u001b[0m\u001b[1;33m\u001b[0m\u001b[0m\n\u001b[0;32m     13\u001b[0m         \u001b[0mmid\u001b[0m \u001b[1;33m=\u001b[0m \u001b[1;33m(\u001b[0m\u001b[0ml\u001b[0m \u001b[1;33m+\u001b[0m \u001b[0mr\u001b[0m\u001b[1;33m)\u001b[0m \u001b[1;33m/\u001b[0m \u001b[1;36m2\u001b[0m\u001b[1;33m\u001b[0m\u001b[0m\n\u001b[1;32m---> 14\u001b[1;33m         \u001b[0mpreLeft\u001b[0m \u001b[1;33m=\u001b[0m \u001b[0mlongestCommonPrefix\u001b[0m\u001b[1;33m(\u001b[0m\u001b[0mstrs\u001b[0m\u001b[1;33m,\u001b[0m \u001b[0ml\u001b[0m\u001b[1;33m,\u001b[0m \u001b[0mmid\u001b[0m\u001b[1;33m)\u001b[0m\u001b[1;33m\u001b[0m\u001b[0m\n\u001b[0m\u001b[0;32m     15\u001b[0m         \u001b[0mpreRight\u001b[0m \u001b[1;33m=\u001b[0m \u001b[0mlongestCommonPrefix\u001b[0m\u001b[1;33m(\u001b[0m\u001b[0mstrs\u001b[0m\u001b[1;33m,\u001b[0m \u001b[0mmid\u001b[0m \u001b[1;33m+\u001b[0m \u001b[1;36m1\u001b[0m\u001b[1;33m,\u001b[0m \u001b[0mr\u001b[0m\u001b[1;33m)\u001b[0m\u001b[1;33m\u001b[0m\u001b[0m\n\u001b[0;32m     16\u001b[0m         \u001b[1;32mreturn\u001b[0m \u001b[0mcommonPrefix\u001b[0m\u001b[1;33m(\u001b[0m\u001b[0mpreLeft\u001b[0m\u001b[1;33m,\u001b[0m \u001b[0mpreRight\u001b[0m\u001b[1;33m)\u001b[0m\u001b[1;33m\u001b[0m\u001b[0m\n",
      "\u001b[1;31mRecursionError\u001b[0m: maximum recursion depth exceeded in comparison"
     ],
     "ename": "RecursionError",
     "evalue": "maximum recursion depth exceeded in comparison",
     "output_type": "error"
    }
   ],
   "source": [
    "# 分治\n",
    "def test(strs):\n",
    "    if len(strs) == 0:\n",
    "        return \"\"\n",
    "    return longestCommonPrefix(strs, 0, len(strs) )\n",
    "\n",
    "def longestCommonPrefix(strs,l, r):\n",
    "    l, r = 0, len(strs)\n",
    "    # mid = (l + r) / 2\n",
    "    if l == r:\n",
    "        return strs[l]\n",
    "    else:\n",
    "        mid = (l + r) / 2\n",
    "        preLeft = longestCommonPrefix(strs, l, mid)\n",
    "        preRight = longestCommonPrefix(strs, mid + 1, r)\n",
    "        return commonPrefix(preLeft, preRight)\n",
    "    \n",
    "def commonPrefix(preLeft, preRight):\n",
    "    min = len(preLeft)\n",
    "    if len(preRight) < len(preLeft):\n",
    "        min = len(preRight)\n",
    "    for i in range(min):\n",
    "        if preLeft[i] != preRight[i]:\n",
    "            return preLeft[0:i]\n",
    "    return preLeft[0:min]\n",
    "\n",
    "print(test([\"flower\",\"flow\",\"flight\"]))\n"
   ],
   "metadata": {
    "collapsed": false,
    "pycharm": {
     "name": "#%%\n",
     "is_executing": false
    }
   }
  },
  {
   "cell_type": "code",
   "execution_count": null,
   "outputs": [],
   "source": [
    "# zip\n",
    "# def longestCommonPrefix(strs):\n",
    "#     if len(strs) == 0:\n",
    "#         return \"\"\n",
    "#     minLen = \n",
    " "
   ],
   "metadata": {
    "collapsed": false,
    "pycharm": {
     "name": "#%%\n"
    }
   }
  },
  {
   "cell_type": "markdown",
   "source": [
    "zip():\n",
    "用于将可迭代的对象作为参数，将对象中对应的元素打包成一个个元组，然后返回由这些元组组成的对象\n",
    "这样做的好处是节约了不少的内存。\n",
    "我们可以使用 list() 转换来输出列表。\n",
    "如果各个迭代器的元素个数不一致，则返回列表长度与最短的对象相同，利用 * 号操作符，可以将元组解压为列表。"
   ],
   "metadata": {
    "collapsed": false
   }
  },
  {
   "cell_type": "code",
   "execution_count": 32,
   "outputs": [
    {
     "name": "stdout",
     "text": [
      "('f', 'f', 'f') {'f'} <zip object at 0x000002389F783B48> [('f', 'f', 'f'), ('l', 'l', 'l'), ('o', 'o', 'i'), ('w', 'w', 'g')]\n('l', 'l', 'l') {'l'} <zip object at 0x000002389F783B48> [('f', 'f', 'f'), ('l', 'l', 'l'), ('o', 'o', 'i'), ('w', 'w', 'g')]\n('o', 'o', 'i') {'i', 'o'} <zip object at 0x000002389F783B48> [('f', 'f', 'f'), ('l', 'l', 'l'), ('o', 'o', 'i'), ('w', 'w', 'g')]\nfl\n"
     ],
     "output_type": "stream"
    }
   ],
   "source": [
    "def longestCommonPrefix(strs):\n",
    "    s = \"\"\n",
    "    # 比较每个字符串的相同位置\n",
    "    for i in zip(*strs):\n",
    "        print(i,set(i),zip(*strs),list(zip(*strs)))\n",
    "        if len(set(i)) == 1:\n",
    "            s += i[0]\n",
    "        # 出现不同元素\n",
    "        else:\n",
    "            break\n",
    "    return s\n",
    "print(longestCommonPrefix([\"flower\",\"flow\",\"flight\"]))"
   ],
   "metadata": {
    "collapsed": false,
    "pycharm": {
     "name": "#%%\n",
     "is_executing": false
    }
   }
  },
  {
   "cell_type": "markdown",
   "source": [
    "17.电话号码的字母组合\n",
    "给定一个仅包含数字 2-9 的字符串，返回所有它能表示的字母组合。\n",
    "给出数字到字母的映射如下（与电话按键相同）。注意 1 不对应任何字母。"
   ],
   "metadata": {
    "collapsed": false
   }
  },
  {
   "cell_type": "code",
   "execution_count": 56,
   "outputs": [
    {
     "name": "stdout",
     "text": [
      "2\n3\nad\nae\naf\n3\nbd\nbe\nbf\n3\ncd\nce\ncf\n['ad', 'ae', 'af', 'bd', 'be', 'bf', 'cd', 'ce', 'cf']\n"
     ],
     "output_type": "stream"
    }
   ],
   "source": [
    "# 递归实现\n",
    "def letterCombinations(digits):\n",
    "    res = []\n",
    "    s = \"\"\n",
    "    dic = {'1':[],'2':['a','b','c'],'3':['d','e','f'],'4':['g','h','i'],\n",
    "    '5':['j','k','l'],'6':['m','n','o'],'7':['p','q','r','s'],'8':['t','u','v'],\n",
    "    '0':['w','x','y','z']}\n",
    "    # for i in range(len(digits)-1):\n",
    "    #     for j in dic[digits[i]]:\n",
    "    #         for k in dic[digits[i + 1]]:\n",
    "    #             # print(digits[i],dic[digits[i]])\n",
    "    #             res.append(j + k)\n",
    "    # return res\n",
    "    # 递归函数\n",
    "    def dfs(tmp, index):\n",
    "        if index == len(digits):\n",
    "            print(tmp)\n",
    "            res.append(tmp)\n",
    "            return\n",
    "        c = digits[index]\n",
    "        print(c)\n",
    "        letters = dic[c]\n",
    "        # print(letters)\n",
    "        for i in letters:\n",
    "            # print(i)\n",
    "            dfs(tmp + i, index+1)\n",
    "                        \n",
    "    dfs(\"\", 0)\n",
    "    return res\n",
    "print(letterCombinations(\"23\"))"
   ],
   "metadata": {
    "collapsed": false,
    "pycharm": {
     "name": "#%%\n",
     "is_executing": false
    }
   }
  },
  {
   "cell_type": "code",
   "execution_count": 60,
   "outputs": [
    {
     "name": "stdout",
     "text": [
      "['adg', 'adh', 'adi', 'aeg', 'aeh', 'aei', 'afg', 'afh', 'afi', 'bdg', 'bdh', 'bdi', 'beg', 'beh', 'bei', 'bfg', 'bfh', 'bfi', 'cdg', 'cdh', 'cdi', 'ceg', 'ceh', 'cei', 'cfg', 'cfh', 'cfi']\n"
     ],
     "output_type": "stream"
    }
   ],
   "source": [
    "# 队列实现\n",
    "def letterCombinations2(digits):\n",
    "    \"\"\"\n",
    "    :param digits: digits \n",
    "    :return: List[str]\n",
    "    \"\"\"\n",
    "    dic = {'1':[],'2':['a','b','c'],'3':['d','e','f'],'4':['g','h','i'],\n",
    "    '5':['j','k','l'],'6':['m','n','o'],'7':['p','q','r','s'],'8':['t','u','v'],\n",
    "    '9':['w','x','y','z']}\n",
    "    res = [\"\"]\n",
    "    if not digits:\n",
    "        return []\n",
    "    for i in digits:\n",
    "        letters = dic[i]\n",
    "        for j in range(len(res)):\n",
    "            tmp = res.pop(0)\n",
    "            for k in letters:\n",
    "                res.append(tmp + k)\n",
    "    return res\n",
    "print(letterCombinations2(\"234\"))\n"
   ],
   "metadata": {
    "collapsed": false,
    "pycharm": {
     "name": "#%%\n",
     "is_executing": false
    }
   }
  },
  {
   "cell_type": "markdown",
   "source": [
    "20.有效的括号"
   ],
   "metadata": {
    "collapsed": false
   }
  },
  {
   "cell_type": "code",
   "execution_count": 61,
   "outputs": [
    {
     "name": "stdout",
     "text": [
      "True\n"
     ],
     "output_type": "stream"
    }
   ],
   "source": [
    "def isValid(s):\n",
    "    stack = []\n",
    "    left = ['(','[','{']\n",
    "    right = [')',']','}']\n",
    "    for c in s:\n",
    "        if c in left:\n",
    "            stack.append(c)\n",
    "        elif c in right:\n",
    "            if len(stack) == 0:\n",
    "                return False\n",
    "            else:\n",
    "                cc = stack.pop()\n",
    "                if c == ')' and cc != '(' or c == ']' and cc != '[' or \\\n",
    "                    c == '}' and cc!='{':\n",
    "                    return False\n",
    "    return len(stack) == 0\n",
    "            \n",
    "print(isValid('(([])){}'))        "
   ],
   "metadata": {
    "collapsed": false,
    "pycharm": {
     "name": "#%%\n",
     "is_executing": false
    }
   }
  },
  {
   "cell_type": "code",
   "execution_count": 66,
   "outputs": [
    {
     "name": "stdout",
     "text": [
      "( ['?', '(']\n( ['?', '(', '(']\n[ ['?', '(', '(', '[']\n"
     ],
     "output_type": "stream"
    },
    {
     "data": {
      "text/plain": "False"
     },
     "metadata": {},
     "output_type": "execute_result",
     "execution_count": 66
    }
   ],
   "source": [
    "def isValid(s):\n",
    "    dic = {'{':'}','[':']','(':')','?':'?'}\n",
    "    stack = ['?']\n",
    "    for c in s:\n",
    "        if c in dic:\n",
    "            stack.append(c)\n",
    "            print(c, stack)\n",
    "        elif dic[stack.pop()] != c:\n",
    "            # print()\n",
    "            return False\n",
    "    return len(stack)  == 1\n",
    "isValid('(([]))}')"
   ],
   "metadata": {
    "collapsed": false,
    "pycharm": {
     "name": "#%%\n",
     "is_executing": false
    }
   }
  },
  {
   "cell_type": "code",
   "execution_count": null,
   "outputs": [],
   "source": [
    "def isValid(s):\n",
    "    stack = []\n",
    "    mapping = {')':'(',\"}\":\"{\",\"]\":\"[\"}\n",
    "    for char in s:\n",
    "        if char in mapping:\n",
    "            if stack:\n",
    "                top_element = stack.pop()\n",
    "            else:\n",
    "                top_element = '#'\n",
    "            if mapping[char] != top_element:\n",
    "                return False\n",
    "        else:\n",
    "            stack.append(char)\n",
    "    return not stack"
   ],
   "metadata": {
    "collapsed": false,
    "pycharm": {
     "name": "#%%\n"
    }
   }
  },
  {
   "cell_type": "code",
   "execution_count": 72,
   "outputs": [
    {
     "data": {
      "text/plain": "True"
     },
     "metadata": {},
     "output_type": "execute_result",
     "execution_count": 72
    }
   ],
   "source": [
    "# 字符串替换\n",
    "def isValid3(s):\n",
    "    while '{}' is s or '()' in s or '[]' in s:\n",
    "        s = s.replace('{}', '')\n",
    "        s = s.replace('[]', '')\n",
    "        s = s.replace('()', '')\n",
    "    return s == ''\n",
    "isValid3('(([])){}')"
   ],
   "metadata": {
    "collapsed": false,
    "pycharm": {
     "name": "#%%\n",
     "is_executing": false
    }
   }
  },
  {
   "cell_type": "markdown",
   "source": [
    "22 给出 n 代表生成括号的对数，请你写出一个函数，使其能够生成所有可能的并且有效的括号组合。"
   ],
   "metadata": {
    "collapsed": false
   }
  },
  {
   "cell_type": "code",
   "execution_count": 1,
   "outputs": [
    {
     "data": {
      "text/plain": "['((((()))))',\n '(((()())))',\n '(((())()))',\n '(((()))())',\n '(((())))()',\n '((()(())))',\n '((()()()))',\n '((()())())',\n '((()()))()',\n '((())(()))',\n '((())()())',\n '((())())()',\n '((()))(())',\n '((()))()()',\n '(()((())))',\n '(()(()()))',\n '(()(())())',\n '(()(()))()',\n '(()()(()))',\n '(()()()())',\n '(()()())()',\n '(()())(())',\n '(()())()()',\n '(())((()))',\n '(())(()())',\n '(())(())()',\n '(())()(())',\n '(())()()()',\n '()(((())))',\n '()((()()))',\n '()((())())',\n '()((()))()',\n '()(()(()))',\n '()(()()())',\n '()(()())()',\n '()(())(())',\n '()(())()()',\n '()()((()))',\n '()()(()())',\n '()()(())()',\n '()()()(())',\n '()()()()()']"
     },
     "metadata": {},
     "output_type": "execute_result",
     "execution_count": 1
    }
   ],
   "source": [
    "# 暴力法\n",
    "def generateParenthesis(n):\n",
    "    def generate(A = []):\n",
    "        if len(A) == 2 * n:\n",
    "            if valid(A):\n",
    "                res.append(\"\".join(A))\n",
    "        else:\n",
    "            A.append('(')\n",
    "            generate(A)\n",
    "            A.pop()\n",
    "            A.append(')')\n",
    "            generate(A)\n",
    "            A.pop()\n",
    "    def valid(A):\n",
    "        bal = 0\n",
    "        for c in A:\n",
    "            if c == '(':\n",
    "                bal += 1\n",
    "            else:\n",
    "                bal -= 1\n",
    "            if bal < 0:\n",
    "                return False\n",
    "        return bal == 0\n",
    "    \n",
    "    res = []\n",
    "    generate()\n",
    "    return res\n",
    "\n",
    "generateParenthesis(5)"
   ],
   "metadata": {
    "collapsed": false,
    "pycharm": {
     "name": "#%%\n",
     "is_executing": false
    }
   }
  },
  {
   "cell_type": "code",
   "execution_count": null,
   "outputs": [],
   "source": [
    "# 回溯法\n",
    "# 序列保持有效时才添加 '(' or ')'\n",
    "# 可以通过跟踪到目前为止放置的左括号和右括号的数目\n",
    "# 我们还剩一个位置，我们可以开始放一个左括号。 如果它不超过左括号的数量，我们可以放一个右括号。\n",
    "def generateParenthesis(n):\n",
    "    ans = []\n",
    "    def backtrack(s = '', left = 0, right = 0):\n",
    "        if len(s) == 2*n:\n",
    "            ans.append(s)\n",
    "            return \n",
    "        if left < n:\n",
    "            backtrack(s + '(', left +1, right)\n",
    "        if right < left:\n",
    "            backtrack(s + ')', left, right + 1)\n",
    "    backtrack()\n",
    "    return ans"
   ],
   "metadata": {
    "collapsed": false,
    "pycharm": {
     "name": "#%%\n"
    }
   }
  },
  {
   "cell_type": "code",
   "execution_count": null,
   "outputs": [],
   "source": [
    "# 闭合数"
   ],
   "metadata": {
    "collapsed": false,
    "pycharm": {
     "name": "#%%\n"
    }
   }
  },
  {
   "cell_type": "markdown",
   "source": [
    "28.字符串匹配"
   ],
   "metadata": {
    "collapsed": false
   }
  },
  {
   "cell_type": "code",
   "execution_count": 69,
   "outputs": [
    {
     "name": "stdout",
     "text": [
      "4 5\ni: 0\n0\n0\na c\ni: 1\n0\n1\na a\n1\n1\nb b\n2\n1\nc c\n3\n1\nd d\nj: 4\n"
     ],
     "output_type": "stream"
    },
    {
     "data": {
      "text/plain": "1"
     },
     "metadata": {},
     "output_type": "execute_result",
     "execution_count": 69
    }
   ],
   "source": [
    "# 暴力匹配\n",
    "def search(pat, txt):\n",
    "    \"\"\"\n",
    "    在内层指针前进时，外层指针不动，直到内从指针循环完以后才前进一位。\n",
    "    :param pat: 待匹配字符串 模式串 \n",
    "    :param txt: 文本串\n",
    "    :return: \n",
    "    \"\"\"\n",
    "    N = len(pat)\n",
    "    M = len(txt)\n",
    "    # print(N,M)\n",
    "    i = 0 # pointer into txt\n",
    "    while i <= (M - N):\n",
    "        # print('i:',i)\n",
    "        j = 0 # pointer into pat\n",
    "        while j < N:\n",
    "            # print(j)\n",
    "            # print(i)\n",
    "            # print(pat[j], txt[i + j])\n",
    "            if pat[j] != txt[i + j]:\n",
    "                break\n",
    "            j += 1\n",
    "        if j == N:\n",
    "            # print('j:',j)\n",
    "            return i\n",
    "        i += 1\n",
    "    return -1\n",
    "\n",
    "search('abcd','cabcd')"
   ],
   "metadata": {
    "collapsed": false,
    "pycharm": {
     "name": "#%%\n",
     "is_executing": false
    }
   }
  },
  {
   "cell_type": "code",
   "execution_count": null,
   "outputs": [],
   "source": [
    "def strStr(pat, txt):\n",
    "    return txt.index(pat) if pat in txt else -1"
   ],
   "metadata": {
    "collapsed": false,
    "pycharm": {
     "name": "#%%\n"
    }
   }
  },
  {
   "cell_type": "code",
   "execution_count": 42,
   "outputs": [
    {
     "data": {
      "text/plain": "1"
     },
     "metadata": {},
     "output_type": "execute_result",
     "execution_count": 42
    }
   ],
   "source": [
    "def strStr2(pat, txt):\n",
    "    return txt.find(pat)\n",
    "strStr2('abcd', 'dabcdf')"
   ],
   "metadata": {
    "collapsed": false,
    "pycharm": {
     "name": "#%%\n",
     "is_executing": false
    }
   }
  },
  {
   "cell_type": "code",
   "execution_count": null,
   "outputs": [],
   "source": [
    "def match(pat, txt):\n",
    "    N = len(pat)\n",
    "    M = len(txt)\n",
    "    i = 0 # pointer into txt\n",
    "    j = 0 # pointer into pat\n",
    "    if M < N:\n",
    "        return -1\n",
    "    if N == 0:\n",
    "        return 0\n",
    "    while i < M and j < N:\n",
    "        if pat[j] == txt[i]:\n",
    "            i += 1\n",
    "            j += 1\n",
    "            if j == N:\n",
    "                return i - j\n",
    "        else:\n",
    "            i = i - j + 1\n",
    "            j = 0\n",
    "    return -1"
   ],
   "metadata": {
    "collapsed": false,
    "pycharm": {
     "name": "#%%\n"
    }
   }
  },
  {
   "cell_type": "code",
   "execution_count": null,
   "outputs": [],
   "source": [
    "# KMP\n",
    "def kmp(pat, txt):\n",
    "    \"\"\"\n",
    "    永不回退 txt 的指针 i\n",
    "    不走回头路（不会重复扫描 txt），而是借助 dp 数组中储存的信息把 pat 移到正确的位置继续匹配\n",
    "    时间复杂度只需 O(N)，用空间换时间，所以我认为它是一种动态规划算法。\n",
    "链接：https://leetcode-cn.com/problems/implement-strstr/solution/kmp-suan-fa-xiang-jie-by-labuladong/\n",
    "\n",
    "    :param pat: \n",
    "    :param txt: \n",
    "    :return: \n",
    "    \"\"\""
   ],
   "metadata": {
    "collapsed": false,
    "pycharm": {
     "name": "#%%\n"
    }
   }
  },
  {
   "cell_type": "markdown",
   "source": [
    "43. python 字符串模拟竖式乘法计算"
   ],
   "metadata": {
    "collapsed": false
   }
  },
  {
   "cell_type": "code",
   "execution_count": null,
   "outputs": [],
   "source": [],
   "metadata": {
    "collapsed": false,
    "pycharm": {
     "name": "#%%\n"
    }
   }
  },
  {
   "cell_type": "markdown",
   "source": [
    "415. 字符串求和\n"
   ],
   "metadata": {
    "collapsed": false
   }
  },
  {
   "cell_type": "code",
   "execution_count": 13,
   "outputs": [
    {
     "data": {
      "text/plain": "'135'"
     },
     "metadata": {},
     "output_type": "execute_result",
     "execution_count": 13
    }
   ],
   "source": [
    "def StringPlus(num1, num2):\n",
    "    res = \"\"\n",
    "    i, j, carry = len(num1) - 1, len(num2) - 1, 0\n",
    "    while i >= 0 or j >= 0:\n",
    "        if i >= 0:\n",
    "            n1 = int(num1[i])\n",
    "        else:\n",
    "            n1 = 0\n",
    "        if j >= 0:\n",
    "            n2 = int(num2[j])\n",
    "        else:\n",
    "            n2 = 0\n",
    "        tmp = n1 + n2 + carry\n",
    "        carry = tmp // 10\n",
    "        res = str(tmp % 10) + res\n",
    "        i -= 1\n",
    "        j -= 1\n",
    "    if carry:\n",
    "        return \"1\" +res\n",
    "    else:\n",
    "        return res\n",
    "StringPlus(\"123\",\"12\")"
   ],
   "metadata": {
    "collapsed": false,
    "pycharm": {
     "name": "#%%\n",
     "is_executing": false
    }
   }
  },
  {
   "cell_type": "markdown",
   "source": [
    "test 字符串乘法  123 * 6"
   ],
   "metadata": {
    "collapsed": false
   }
  },
  {
   "cell_type": "code",
   "execution_count": 11,
   "outputs": [
    {
     "data": {
      "text/plain": "'672'"
     },
     "metadata": {},
     "output_type": "execute_result",
     "execution_count": 11
    }
   ],
   "source": [
    "def StringMultiply(num1, num2):\n",
    "    res = \"\"\n",
    "    i, j, carry = len(num1) - 1, len(num2)-1, 0\n",
    "    # print(i)\n",
    "    while i >= 0:\n",
    "        if i >= 0:\n",
    "            n1 = int(num1[i])\n",
    "        else:\n",
    "            n1 = 0\n",
    "        n2 = int(num2[j])\n",
    "        tmp = n1 * n2 + carry\n",
    "        carry = tmp // 10\n",
    "        res += str(tmp % 10)\n",
    "        i -= 1\n",
    "    return res[::-1]\n",
    "StringMultiply('112','6')   "
   ],
   "metadata": {
    "collapsed": false,
    "pycharm": {
     "name": "#%%\n",
     "is_executing": false
    }
   }
  },
  {
   "cell_type": "code",
   "execution_count": 25,
   "outputs": [
    {
     "data": {
      "text/plain": "'56088'"
     },
     "metadata": {},
     "output_type": "execute_result",
     "execution_count": 25
    }
   ],
   "source": [
    "def multiply(num1, num2):\n",
    "    if num1 == '0' or num2 == '0':\n",
    "        return '0'\n",
    "    l1 = len(num1)\n",
    "    l2 = len(num2)\n",
    "    if l1 < l2:\n",
    "        num1, num2 = num2, num1\n",
    "        l1, l2 = l2, l1\n",
    "    \n",
    "    res = ''\n",
    "    num2 = num2[::-1]\n",
    "    for i, d in enumerate(num2):\n",
    "        tmp = StringMultiply(num1, d) + \"0\" * i\n",
    "        res = StringPlus(res, tmp)\n",
    "    \n",
    "    return res\n",
    "\n",
    "def StringMultiply(num1, num2):\n",
    "    res = \"\"\n",
    "    i, j, carry = len(num1) - 1, len(num2)-1, 0\n",
    "    # print(i)\n",
    "    while i >= 0:\n",
    "        if i >= 0:\n",
    "            n1 = int(num1[i])\n",
    "        else:\n",
    "            n1 = 0\n",
    "        n2 = int(num2[j])\n",
    "        tmp = n1 * n2 + carry\n",
    "        carry = tmp // 10\n",
    "        res += str(tmp % 10)\n",
    "        i -= 1\n",
    "    return res[::-1]\n",
    "\n",
    "def StringPlus(num1, num2):\n",
    "    res = \"\"\n",
    "    i, j, carry = len(num1) - 1, len(num2) - 1, 0\n",
    "    while i >= 0 or j >= 0:\n",
    "        if i >= 0:\n",
    "            n1 = int(num1[i])\n",
    "        else:\n",
    "            n1 = 0\n",
    "        if j >= 0:\n",
    "            n2 = int(num2[j])\n",
    "        else:\n",
    "            n2 = 0\n",
    "        tmp = n1 + n2 + carry\n",
    "        carry = tmp // 10\n",
    "        res = str(tmp % 10) + res\n",
    "        i -= 1\n",
    "        j -= 1\n",
    "    if carry:\n",
    "        return \"1\" + res\n",
    "    else:\n",
    "        return res\n",
    "multiply('123','456')"
   ],
   "metadata": {
    "collapsed": false,
    "pycharm": {
     "name": "#%%\n",
     "is_executing": false
    }
   }
  },
  {
   "cell_type": "markdown",
   "source": [
    "49. 给定一个字符串数组，将字母异位词组合在一起。\n",
    "字母异位词指字母相同，但排列不同的字符串。"
   ],
   "metadata": {
    "collapsed": false
   }
  },
  {
   "cell_type": "code",
   "execution_count": 32,
   "outputs": [
    {
     "name": "stdout",
     "text": [
      "eat aet\n{'aet': ['eat']}\ntea aet\n{'aet': ['eat', 'tea']}\ntan ant\n{'aet': ['eat', 'tea'], 'ant': ['tan']}\nate aet\n{'aet': ['eat', 'tea', 'ate'], 'ant': ['tan']}\nnat ant\n{'aet': ['eat', 'tea', 'ate'], 'ant': ['tan', 'nat']}\nbat abt\n{'aet': ['eat', 'tea', 'ate'], 'ant': ['tan', 'nat'], 'abt': ['bat']}\n"
     ],
     "output_type": "stream"
    },
    {
     "data": {
      "text/plain": "[['eat', 'tea', 'ate'], ['tan', 'nat'], ['bat']]"
     },
     "metadata": {},
     "output_type": "execute_result",
     "execution_count": 32
    }
   ],
   "source": [
    "def group(strs):\n",
    "    \"\"\"\n",
    "    :param strs: list[str] \n",
    "    :return: \n",
    "    \"\"\"\n",
    "    temp = []\n",
    "    dic = {}\n",
    "    for s in strs:\n",
    "        keys = \"\".join(sorted(s))\n",
    "        print(s,keys)\n",
    "        if keys in dic:\n",
    "            dic[keys].append(s)\n",
    "            print(dic)\n",
    "        else:\n",
    "            dic[keys] = [s]\n",
    "            print(dic)\n",
    "    return list(dic.values())\n",
    "group([\"eat\",\"tea\",\"tan\",\"ate\",\"nat\",\"bat\"])        "
   ],
   "metadata": {
    "collapsed": false,
    "pycharm": {
     "name": "#%%\n",
     "is_executing": false
    }
   }
  },
  {
   "cell_type": "markdown",
   "source": [
    "58. 最后一个单词的长度\n"
   ],
   "metadata": {
    "collapsed": false
   }
  },
  {
   "cell_type": "code",
   "execution_count": null,
   "outputs": [],
   "source": [
    "def lengthOfLastWord(s):\n",
    "    ss = s.strip(' ')\n",
    "    res = ss.split(' ')\n",
    "    return len(res[-1])"
   ],
   "metadata": {
    "collapsed": false,
    "pycharm": {
     "name": "#%%\n"
    }
   }
  },
  {
   "cell_type": "code",
   "execution_count": 1,
   "outputs": [
    {
     "data": {
      "text/plain": "['a', '']"
     },
     "metadata": {},
     "output_type": "execute_result",
     "execution_count": 1
    }
   ],
   "source": [
    "s = \"a \"\n",
    "s.split(\" \")\n",
    "s.strip()"
   ],
   "metadata": {
    "collapsed": false,
    "pycharm": {
     "name": "#%%\n",
     "is_executing": false
    }
   }
  },
  {
   "cell_type": "code",
   "execution_count": 13,
   "outputs": [
    {
     "data": {
      "text/plain": "1"
     },
     "metadata": {},
     "output_type": "execute_result",
     "execution_count": 13
    }
   ],
   "source": [
    "def lengthOfLastWord2(s):\n",
    "    count, tail = 0, len(s) -  1\n",
    "    while tail >= 0 and s[tail] == ' ':\n",
    "        tail -= 1\n",
    "    while tail >= 0 and s[tail] != ' ':\n",
    "        count += 1\n",
    "        tail -= 1\n",
    "\n",
    "    return count\n",
    "lengthOfLastWord2('a ')\n"
   ],
   "metadata": {
    "collapsed": false,
    "pycharm": {
     "name": "#%%\n",
     "is_executing": false
    }
   }
  },
  {
   "cell_type": "code",
   "execution_count": 12,
   "outputs": [
    {
     "name": "stdout",
     "text": [
      "d\nTrue\n1\nd\nTrue\n2\nf\nTrue\n3\ns\nTrue\n4\n \nFalse\n"
     ],
     "output_type": "stream"
    },
    {
     "data": {
      "text/plain": "4"
     },
     "metadata": {},
     "output_type": "execute_result",
     "execution_count": 12
    }
   ],
   "source": [
    "# 从后往前倒序遍历\n",
    "def lengthOfLastWord3(s):\n",
    "    length = 0\n",
    "    # i = len(s) - 1\n",
    "    for i in reversed(s):\n",
    "        print(i)\n",
    "        print(i!=' ')\n",
    "        if i != ' ':\n",
    "            length += 1\n",
    "            print(length)\n",
    "        elif length != 0:\n",
    "            return length\n",
    "    return length\n",
    "lengthOfLastWord3('sdf sfdd')"
   ],
   "metadata": {
    "collapsed": false,
    "pycharm": {
     "name": "#%%\n",
     "is_executing": false
    }
   }
  },
  {
   "cell_type": "markdown",
   "source": [
    "倒序遍历方法：\n",
    "1.reversed函数会生成一份倒序列表的拷贝\n",
    "for i in reversed(s)\n",
    "2.列表最后一位下标的元素往前循环，步长为-1，直到数组下标为0的元素\n",
    "for i in range(len(s)-1, -1, -1)\n"
   ],
   "metadata": {
    "collapsed": false
   }
  },
  {
   "cell_type": "markdown",
   "source": [
    "67. 二进制求和\n",
    "内置函数 bin(int(a, 2) + int(b, 2))[2:]"
   ],
   "metadata": {
    "collapsed": false
   }
  },
  {
   "cell_type": "code",
   "execution_count": 16,
   "outputs": [
    {
     "name": "stdout",
     "text": [
      "n1: 0\nn2: 1\n1 0 1\nn1: 1\nn2: 1\n2 1 01\nn1: 0\nn2: 0\n1 0 101\nn1: 1\nn2: 1\n2 1 0101\n"
     ],
     "output_type": "stream"
    },
    {
     "data": {
      "text/plain": "'10101'"
     },
     "metadata": {},
     "output_type": "execute_result",
     "execution_count": 16
    }
   ],
   "source": [
    "def addBinary(a, b):\n",
    "    i, j, carry = len(a) - 1, len(b) - 1, 0\n",
    "    res = ''\n",
    "    while i >=0 or j >= 0:\n",
    "        if i >=0:\n",
    "            n1 = int(a[i])\n",
    "            print('n1:',n1)\n",
    "        else:\n",
    "            n1 = 0\n",
    "        if j >=0:\n",
    "            n2 = int(b[j])\n",
    "            print('n2:',n2)\n",
    "        else:\n",
    "            n2 = 0\n",
    "        temp = n1 + n2 + carry\n",
    "        carry = temp // 2\n",
    "        res = str(temp % 2) + res\n",
    "        print(temp,carry, res)\n",
    "        i -= 1\n",
    "        j -= 1\n",
    "    if carry:\n",
    "        return '1' + res\n",
    "    else:\n",
    "        return res\n",
    "addBinary('1010','1011')\n"
   ],
   "metadata": {
    "collapsed": false,
    "pycharm": {
     "name": "#%%\n",
     "is_executing": false
    }
   }
  },
  {
   "cell_type": "code",
   "execution_count": null,
   "outputs": [],
   "source": [
    "def addBinary2(a, b):\n",
    "    r, p = '', 0\n",
    "    d = len(b) - len(a)\n",
    "    a = '0' * d + a\n",
    "    b = '0' * -d + b\n",
    "    for i, j in zip(a[::-1], b[::-1]):\n",
    "        s = int(i) + int(j) + p\n",
    "        r = str(s % 2) + r\n",
    "        p = s // 2\n",
    "    return '1' + r if p else r\n"
   ],
   "metadata": {
    "collapsed": false,
    "pycharm": {
     "name": "#%%\n"
    }
   }
  },
  {
   "cell_type": "markdown",
   "source": [
    "71. 简化路径\n",
    "在 Unix 风格的文件系统中，一个点（.）表示当前目录本身；\n",
    "此外，两个点 （..） 表示将目录切换到上一级（指向父目录）；两者都可以是复杂相对路径的组成部分。\n",
    "返回的规范路径必须始终以斜杠 / 开头，并且两个目录名之间必须只有一个斜杠 / 。\n",
    "最后一个目录名（如果存在）不能以 / 结尾。此外，规范路径必须是表示绝对路径的最短字符串。\n"
   ],
   "metadata": {
    "collapsed": false
   }
  },
  {
   "cell_type": "code",
   "execution_count": null,
   "outputs": [],
   "source": [
    "def simplifyPath(path):\n",
    "    stack = []\n",
    "    p = path.split('/')\n",
    "    for item in p:\n",
    "        if item == '..':\n",
    "            if stack:\n",
    "                stack.pop()\n",
    "        elif item and item != '.':\n",
    "            stack.append(item)\n",
    "    return '/' + '/'.join(stack)\n"
   ],
   "metadata": {
    "collapsed": false,
    "pycharm": {
     "name": "#%%\n"
    }
   }
  }
 ],
 "metadata": {
  "language_info": {
   "codemirror_mode": {
    "name": "ipython",
    "version": 2
   },
   "file_extension": ".py",
   "mimetype": "text/x-python",
   "name": "python",
   "nbconvert_exporter": "python",
   "pygments_lexer": "ipython2",
   "version": "2.7.6"
  },
  "kernelspec": {
   "name": "python3",
   "language": "python",
   "display_name": "Python 3"
  },
  "pycharm": {
   "stem_cell": {
    "cell_type": "raw",
    "source": [],
    "metadata": {
     "collapsed": false
    }
   }
  }
 },
 "nbformat": 4,
 "nbformat_minor": 0
}
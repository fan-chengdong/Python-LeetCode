{
 "cells": [
  {
   "cell_type": "code",
   "execution_count": null,
   "metadata": {
    "collapsed": true
   },
   "outputs": [],
   "source": []
  },
  {
   "cell_type": "code",
   "execution_count": 15,
   "outputs": [],
   "source": [
    "def minArray(numbers):\n",
    "    if not numbers:\n",
    "        return None\n",
    "    left = 0\n",
    "    right = len(numbers) - 1\n",
    "    print(left,right)\n",
    "    print(left<right)\n",
    "    while left<right:\n",
    "        mid = (right + right) // 2\n",
    "        if numbers[mid] > numbers[right]:\n",
    "            print(left)\n",
    "            left = mid + 1\n",
    "        elif numbers[mid] < numbers[right]:\n",
    "            print(right)\n",
    "            right = mid\n",
    "        else:\n",
    "            right -= 1\n",
    "    return numbers[left]"
   ],
   "metadata": {
    "collapsed": false,
    "pycharm": {
     "name": "#%%\n",
     "is_executing": false
    }
   }
  },
  {
   "cell_type": "code",
   "execution_count": 16,
   "outputs": [
    {
     "name": "stdout",
     "text": [
      "0 4\nTrue\n2\n"
     ],
     "output_type": "stream"
    }
   ],
   "source": [
    "print(minArray([2,2,2,0,1]))"
   ],
   "metadata": {
    "collapsed": false,
    "pycharm": {
     "name": "#%%\n",
     "is_executing": false
    }
   }
  },
  {
   "cell_type": "code",
   "execution_count": null,
   "outputs": [],
   "source": [
    "#"
   ],
   "metadata": {
    "collapsed": false,
    "pycharm": {
     "name": "#%%\n"
    }
   }
  },
  {
   "cell_type": "markdown",
   "source": [
    "### 深度优先搜索 + 剪枝"
   ],
   "metadata": {
    "collapsed": false,
    "pycharm": {
     "name": "#%% md\n"
    }
   }
  },
  {
   "cell_type": "code",
   "execution_count": null,
   "outputs": [],
   "source": [
    "class DFS():\n",
    "    def exists(self, board, word):\n",
    "        def dfs(i, j, k):\n",
    "            if i > len(board) or j > len(board[0]) or board[i][j] != word[k]:\n",
    "                return False\n",
    "            if len(word) -1 == k:\n",
    "                return True\n",
    "            tmp = board[i][j]\n",
    "            board[i][j] = '/'\n",
    "            res = dfs(i+1,j, k+1) or dfs(i-1, j, k+1) or dfs(i,j+1, k+1) or dfs(i, j-1, k+1)\n",
    "            board[i][j] = tmp\n",
    "            return res\n",
    "        for i in range(len(board)):\n",
    "            for j in range(len(board[0])):\n",
    "                if dfs(i, j, 0):\n",
    "                    return True\n",
    "        return False"
   ],
   "metadata": {
    "collapsed": false,
    "pycharm": {
     "name": "#%%\n"
    }
   }
  },
  {
   "cell_type": "code",
   "execution_count": 1,
   "outputs": [],
   "source": [
    "def exists(self, board, word):\n",
    "    def dfs(i, j, k):\n",
    "        if i > len(board) or j > len(board[0]) or board[i][j] != word[k]:\n",
    "            return False\n",
    "        if len(word) -1 == k:\n",
    "            return True\n",
    "        tmp = board[i][j]\n",
    "        board[i][j] = '/'\n",
    "        res = dfs(i+1,j, k+1) or dfs(i-1, j, k+1) or dfs(i,j+1, k+1) or dfs(i, j-1, k+1)\n",
    "        board[i][j] = tmp\n",
    "        return res\n",
    "    for i in range(len(board)):\n",
    "        for j in range(len(board[0])):\n",
    "            if dfs(i, j, 0):\n",
    "                return True\n",
    "    return False"
   ],
   "metadata": {
    "collapsed": false,
    "pycharm": {
     "name": "#%%\n",
     "is_executing": false
    }
   }
  },
  {
   "cell_type": "markdown",
   "source": [
    "### 两位数拆分"
   ],
   "metadata": {
    "collapsed": false,
    "pycharm": {
     "name": "#%% md\n"
    }
   }
  },
  {
   "cell_type": "code",
   "execution_count": 2,
   "outputs": [
    {
     "name": "stdout",
     "text": [
      "2 5\n"
     ],
     "output_type": "stream"
    }
   ],
   "source": [
    "# x\n",
    "x = 25\n",
    "a = x // 10\n",
    "b = x - a*10\n",
    "print(a, b)"
   ],
   "metadata": {
    "collapsed": false,
    "pycharm": {
     "name": "#%%\n",
     "is_executing": false
    }
   }
  },
  {
   "cell_type": "code",
   "execution_count": 9,
   "outputs": [
    {
     "name": "stdout",
     "text": [
      "[0, 1, 2, 3, 4, 5]\n"
     ],
     "output_type": "stream"
    }
   ],
   "source": [
    "dp = [i for i in range(5+1) ]\n",
    "print(dp)"
   ],
   "metadata": {
    "collapsed": false,
    "pycharm": {
     "name": "#%%\n",
     "is_executing": false
    }
   }
  },
  {
   "cell_type": "code",
   "execution_count": 8,
   "outputs": [
    {
     "name": "stdout",
     "text": [
      "3\n4\n5\n"
     ],
     "output_type": "stream"
    }
   ],
   "source": [
    "for i in range(3, 5+1):\n",
    "    print(i)"
   ],
   "metadata": {
    "collapsed": false,
    "pycharm": {
     "name": "#%%\n",
     "is_executing": false
    }
   }
  },
  {
   "cell_type": "code",
   "execution_count": null,
   "outputs": [],
   "source": [],
   "metadata": {
    "collapsed": false,
    "pycharm": {
     "name": "#%%\n"
    }
   }
  },
  {
   "cell_type": "markdown",
   "source": [
    "### 二进制中 1 的个数\n",
    "\n",
    "1. n & 1 = 0  0\n",
    "2. n & 1 = 1  1\n",
    "3 n >>= 1 二进制数字n无符号右移一位"
   ],
   "metadata": {
    "collapsed": false
   }
  },
  {
   "cell_type": "code",
   "execution_count": 5,
   "outputs": [],
   "source": [
    "def hammingWeight(n):\n",
    "    res = 0\n",
    "    while n:\n",
    "        res += n & 1\n",
    "        n >>= 1\n",
    "    return res\n",
    "\n"
   ],
   "metadata": {
    "collapsed": false,
    "pycharm": {
     "name": "#%%\n",
     "is_executing": false
    }
   }
  },
  {
   "cell_type": "code",
   "execution_count": 6,
   "outputs": [
    {
     "data": {
      "text/plain": "2"
     },
     "metadata": {},
     "output_type": "execute_result",
     "execution_count": 6
    }
   ],
   "source": [
    "hammingWeight(9)"
   ],
   "metadata": {
    "collapsed": false,
    "pycharm": {
     "name": "#%%\n",
     "is_executing": false
    }
   }
  },
  {
   "cell_type": "code",
   "execution_count": null,
   "outputs": [],
   "source": [
    "print(1)"
   ],
   "metadata": {
    "collapsed": false,
    "pycharm": {
     "name": "#%%\n",
     "is_executing": true
    }
   }
  },
  {
   "cell_type": "code",
   "execution_count": 9,
   "outputs": [],
   "source": [
    "def myPow(x,n):\n",
    "    i = 0\n",
    "    res = 1\n",
    "    if n == 0:\n",
    "        return 1\n",
    "    elif n < 0:\n",
    "        while i > n:\n",
    "            res *= 1/x\n",
    "            i -=1\n",
    "    else:\n",
    "        while i < n:\n",
    "            res = res * x\n",
    "            i += 1\n",
    "    return res"
   ],
   "metadata": {
    "collapsed": false,
    "pycharm": {
     "name": "#%%\n",
     "is_executing": false
    }
   }
  },
  {
   "cell_type": "code",
   "execution_count": 12,
   "outputs": [
    {
     "data": {
      "text/plain": "2"
     },
     "metadata": {},
     "output_type": "execute_result",
     "execution_count": 12
    }
   ],
   "source": [
    "myPow(2,1)"
   ],
   "metadata": {
    "collapsed": false,
    "pycharm": {
     "name": "#%%\n",
     "is_executing": false
    }
   }
  },
  {
   "cell_type": "code",
   "execution_count": 13,
   "outputs": [
    {
     "data": {
      "text/plain": "2"
     },
     "metadata": {},
     "output_type": "execute_result",
     "execution_count": 13
    }
   ],
   "source": [
    "5 // 2"
   ],
   "metadata": {
    "collapsed": false,
    "pycharm": {
     "name": "#%%\n",
     "is_executing": false
    }
   }
  },
  {
   "cell_type": "code",
   "execution_count": 14,
   "outputs": [
    {
     "data": {
      "text/plain": "1"
     },
     "metadata": {},
     "output_type": "execute_result",
     "execution_count": 14
    }
   ],
   "source": [
    "5 & 1"
   ],
   "metadata": {
    "collapsed": false,
    "pycharm": {
     "name": "#%%\n",
     "is_executing": false
    }
   }
  },
  {
   "cell_type": "code",
   "execution_count": 15,
   "outputs": [
    {
     "data": {
      "text/plain": "0"
     },
     "metadata": {},
     "output_type": "execute_result",
     "execution_count": 15
    }
   ],
   "source": [
    "20& 1"
   ],
   "metadata": {
    "collapsed": false,
    "pycharm": {
     "name": "#%%\n",
     "is_executing": false
    }
   }
  },
  {
   "cell_type": "code",
   "execution_count": null,
   "outputs": [],
   "source": [
    "# 迭代\n",
    "def myPow2(x, n):\n",
    "    if n<0:\n",
    "        x = 1/x\n",
    "        n = -n\n",
    "    if n == 0:\n",
    "        return 1\n",
    "    ans = 1\n",
    "    while n > 1:            \n",
    "        if n & 1:\n",
    "            ans *= x\n",
    "            n -= 1\n",
    "        else:\n",
    "            x = x * x\n",
    "            n //= 2\n",
    "    ans *= x\n",
    "    return ans"
   ],
   "metadata": {
    "collapsed": false,
    "pycharm": {
     "name": "#%%\n"
    }
   }
  },
  {
   "cell_type": "code",
   "execution_count": 16,
   "outputs": [],
   "source": [
    "def myPow3(x, n):\n",
    "    if x == 0:\n",
    "        return 0\n",
    "    res = 1\n",
    "    if n < 0:\n",
    "        x = 1/x\n",
    "        n = -n\n",
    "    while n:\n",
    "        if n&1:\n",
    "            res *= x\n",
    "        x *=x\n",
    "        n >>= 1\n",
    "    return res"
   ],
   "metadata": {
    "collapsed": false,
    "pycharm": {
     "name": "#%%\n",
     "is_executing": false
    }
   }
  },
  {
   "cell_type": "code",
   "execution_count": 20,
   "outputs": [
    {
     "data": {
      "text/plain": "4"
     },
     "metadata": {},
     "output_type": "execute_result",
     "execution_count": 20
    }
   ],
   "source": [
    "9 >> 1"
   ],
   "metadata": {
    "collapsed": false,
    "pycharm": {
     "name": "#%%\n",
     "is_executing": false
    }
   }
  },
  {
   "cell_type": "code",
   "execution_count": 21,
   "outputs": [
    {
     "data": {
      "text/plain": "1"
     },
     "metadata": {},
     "output_type": "execute_result",
     "execution_count": 21
    }
   ],
   "source": [
    "2>>1"
   ],
   "metadata": {
    "collapsed": false,
    "pycharm": {
     "name": "#%%\n",
     "is_executing": false
    }
   }
  },
  {
   "cell_type": "code",
   "execution_count": 22,
   "outputs": [
    {
     "data": {
      "text/plain": "1"
     },
     "metadata": {},
     "output_type": "execute_result",
     "execution_count": 22
    }
   ],
   "source": [
    "3>>1\n"
   ],
   "metadata": {
    "collapsed": false,
    "pycharm": {
     "name": "#%%\n",
     "is_executing": false
    }
   }
  },
  {
   "cell_type": "code",
   "execution_count": null,
   "outputs": [],
   "source": [
    "\n"
   ],
   "metadata": {
    "collapsed": false,
    "pycharm": {
     "name": "#%%\n"
    }
   }
  }
 ],
 "metadata": {
  "language_info": {
   "codemirror_mode": {
    "name": "ipython",
    "version": 2
   },
   "file_extension": ".py",
   "mimetype": "text/x-python",
   "name": "python",
   "nbconvert_exporter": "python",
   "pygments_lexer": "ipython2",
   "version": "2.7.6"
  },
  "kernelspec": {
   "name": "python3",
   "language": "python",
   "display_name": "Python 3"
  },
  "pycharm": {
   "stem_cell": {
    "cell_type": "raw",
    "source": [],
    "metadata": {
     "collapsed": false
    }
   }
  }
 },
 "nbformat": 4,
 "nbformat_minor": 0
}
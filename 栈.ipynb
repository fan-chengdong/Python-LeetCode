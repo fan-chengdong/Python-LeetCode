{
 "cells": [
  {
   "cell_type": "markdown",
   "source": [
    "栈\n"
   ],
   "metadata": {
    "collapsed": false,
    "pycharm": {
     "name": "#%% md\n"
    }
   }
  },
  {
   "cell_type": "raw",
   "source": [
    "1.下一个更大元素\n",
    "给定一个循环数组（最后一个元素的下一个元素是数组的第一个元素），输出每个元素的下一个更大元素。\n",
    "数字 x 的下一个更大的元素是按数组遍历顺序，这个数字之后的第一个比它更大的数，\n",
    "这意味着你应该循环地搜索它的下一个更大的数。如果不存在，则输出 -1。\n"
   ],
   "metadata": {
    "collapsed": false
   }
  },
  {
   "cell_type": "code",
   "execution_count": 1,
   "outputs": [],
   "source": [
    "def nextGreaterElements(self, nums):\n",
    "    \"\"\"\n",
    "    \n",
    "    :param self: \n",
    "    :param nums: 数组列表\n",
    "    :return: \n",
    "    \"\"\"\n",
    "    stack = []\n",
    "    l = len(nums)\n",
    "    res = [-1] * l\n",
    "    for i in range(2*l - 1, -1, -1):\n",
    "        while (stack and nums[stack[-1]] <= nums[i%l]):\n",
    "            stack.pop()\n",
    "        if stack == []:\n",
    "            res[i%l] = -1\n",
    "        else:\n",
    "            res[i%l] = nums[stack[-1]]\n",
    "        stack.append(i%l)\n",
    "        \n",
    "    return res"
   ],
   "metadata": {
    "collapsed": false,
    "pycharm": {
     "name": "#%%\n",
     "is_executing": false
    }
   }
  },
  {
   "cell_type": "raw",
   "source": [
    "2.删除字符串中的所有相邻重复项 II\n",
    "给你一个字符串 s，「k 倍重复项删除操作」将会从 s 中选择 k 个相邻且相等的字母，\n",
    "并删除它们，使被删去的字符串的左侧和右侧连在一起。\n",
    "你需要对 s 重复进行无限次这样的删除操作，直到无法继续为止。\n",
    "在执行完所有删除操作后，返回最终得到的字符串。\n",
    "\n",
    "来源：力扣（LeetCode）\n",
    "链接：https://leetcode-cn.com/problems/remove-all-adjacent-duplicates-in-string-ii\n"
   ],
   "metadata": {
    "collapsed": false,
    "pycharm": {
     "name": "#%% raw\n"
    }
   }
  },
  {
   "cell_type": "code",
   "execution_count": 40,
   "outputs": [
    {
     "name": "stdout",
     "text": [
      "aa\n"
     ],
     "output_type": "stream"
    }
   ],
   "source": [
    "def removeDuplicates(s, k):\n",
    "    \"\"\"\n",
    "    \n",
    "    :param self: \n",
    "    :param s: str\n",
    "    :param k: int\n",
    "    :return: str\n",
    "    \"\"\"\n",
    "    l = len(s)\n",
    "    stack = []\n",
    "\n",
    "    for c in s:\n",
    "        if (not stack) or (stack[-1][0] != c):\n",
    "            stack.append([c,1])\n",
    "        elif stack[-1][1] + 1 < k:\n",
    "            stack[-1][1] += 1\n",
    "        else:\n",
    "            stack.pop()\n",
    "    ans = \"\"\n",
    "    for c, l in stack:\n",
    "        ans += c * l\n",
    "    return ans\n",
    "print(removeDuplicates(\"deeedbbcccbdaa\",3))   \n"
   ],
   "metadata": {
    "collapsed": false,
    "pycharm": {
     "name": "#%%\n",
     "is_executing": false
    }
   }
  },
  {
   "cell_type": "markdown",
   "source": [
    "3. 反转每对括号间的子串\n",
    "给出一个字符串 s（仅含有小写英文字母和括号）。\n",
    "请你按照从括号内到外的顺序，逐层反转每对匹配括号中的字符串，并返回最终的结果。\n",
    "\n",
    "注意，您的结果中 不应 包含任何括号\n",
    "\n",
    "来源：力扣（LeetCode）\n",
    "链接：https://leetcode-cn.com/problems/reverse-substrings-between-each-pair-of-parentheses\n"
   ],
   "metadata": {
    "collapsed": false
   }
  },
  {
   "cell_type": "code",
   "execution_count": null,
   "outputs": [],
   "source": [
    "def reverseParentheses(S):\n",
    "    \"\"\"\n",
    "    反转每对括号间的子串\n",
    "    :param s:   str \n",
    "    :return: \n",
    "    \"\"\"\n",
    "    stack = []\n",
    "    intervals = []\n",
    "    l = len(S)\n",
    "    \n",
    "    for i in range(l):\n",
    "        if S[i] == '(':\n",
    "            stack.append(i)\n",
    "        elif S[i] == ')':\n",
    "            left = stack.pop() +1\n",
    "            right = i\n",
    "            intervals.append([left, right])\n",
    "    S = list(S)\n",
    "    for interval in intervals:\n",
    "        S[interval[0]:interval[1]] = S[interval[0]:interval[1][::-1]\n",
    "    S = filter(lambda x: x!=\"(\" and x!=\")\", S)\n",
    "    return \"\".join(S)\n",
    "\n"
   ],
   "metadata": {
    "collapsed": false,
    "pycharm": {
     "name": "#%%\n"
    }
   }
  },
  {
   "cell_type": "code",
   "execution_count": 4,
   "outputs": [
    {
     "traceback": [
      "\u001b[1;31m---------------------------------------------------------------------------\u001b[0m",
      "\u001b[1;31mTypeError\u001b[0m                                 Traceback (most recent call last)",
      "\u001b[1;32m<ipython-input-4-9a486cefbecd>\u001b[0m in \u001b[0;36m<module>\u001b[1;34m\u001b[0m\n\u001b[0;32m     25\u001b[0m             \u001b[0mright\u001b[0m \u001b[1;33m-=\u001b[0m \u001b[0mright\u001b[0m\u001b[1;33m\u001b[0m\u001b[0m\n\u001b[0;32m     26\u001b[0m             \u001b[0mleft\u001b[0m \u001b[1;33m-=\u001b[0m \u001b[0mleft\u001b[0m\u001b[1;33m\u001b[0m\u001b[0m\n\u001b[1;32m---> 27\u001b[1;33m \u001b[0mprint\u001b[0m\u001b[1;33m(\u001b[0m\u001b[0msolve\u001b[0m\u001b[1;33m.\u001b[0m\u001b[0mreverseParentheses\u001b[0m\u001b[1;33m(\u001b[0m\u001b[1;34m\"a(sdfsf)s\"\u001b[0m\u001b[1;33m)\u001b[0m\u001b[1;33m)\u001b[0m\u001b[1;33m\u001b[0m\u001b[0m\n\u001b[0m",
      "\u001b[1;31mTypeError\u001b[0m: reverseParentheses() missing 1 required positional argument: 'S'"
     ],
     "ename": "TypeError",
     "evalue": "reverseParentheses() missing 1 required positional argument: 'S'",
     "output_type": "error"
    }
   ],
   "source": [
    "class solve():\n",
    "    def reverseParentheses(self,S):\n",
    "        \"\"\"\n",
    "        S   str\n",
    "        :return: \n",
    "        \"\"\"\n",
    "        stack = []\n",
    "        arr = \"\"\n",
    "        for i in range(len(S)):\n",
    "            if S[i] == '(':\n",
    "                stack.append(i)\n",
    "            if S[i] == ')':\n",
    "                self.reverse(S, stack.pop() + 1, i - 1)\n",
    "        for j in range(len(S)):\n",
    "            if S[i] != '(' and S[i] != ')':\n",
    "                arr.join(S[i])\n",
    "            \n",
    "        return arr\n",
    "    \n",
    "    def reverse(self, s, left, right):\n",
    "        while right > left:\n",
    "            tmp = s[left]\n",
    "            s[left] = s[right]\n",
    "            s[right] = temp\n",
    "            right -= right\n",
    "            left -= left\n",
    "print(solve.reverseParentheses(\"a(sdfsf)s\"))    \n"
   ],
   "metadata": {
    "collapsed": false,
    "pycharm": {
     "name": "#%%\n",
     "is_executing": false
    }
   }
  },
  {
   "cell_type": "code",
   "execution_count": 5,
   "outputs": [
    {
     "data": {
      "text/plain": "'abcfdsad'"
     },
     "metadata": {},
     "output_type": "execute_result",
     "execution_count": 5
    }
   ],
   "source": [
    "def reverseParentheses(s):\n",
    "        intervals = []\n",
    "        stack = []\n",
    "        for i,c in enumerate(s):\n",
    "            if c == \"(\":\n",
    "                stack.append(i)\n",
    "            elif c == \")\":\n",
    "                left = stack.pop() + 1\n",
    "                right = i\n",
    "                intervals.append([left, right])\n",
    "        s = list(s)\n",
    "        for interval in intervals:\n",
    "            s[interval[0]:interval[1]] = s[interval[0]:interval[1]][::-1]\n",
    "        s = filter(lambda x: x != \"(\" and x !=\")\", s)\n",
    "        return \"\".join(s)\n",
    "reverseParentheses(\"a(sdfcb)ad\")\n"
   ],
   "metadata": {
    "collapsed": false,
    "pycharm": {
     "name": "#%%\n",
     "is_executing": false
    }
   }
  },
  {
   "cell_type": "code",
   "execution_count": 9,
   "outputs": [
    {
     "data": {
      "text/plain": "'abcfdsad'"
     },
     "metadata": {},
     "output_type": "execute_result",
     "execution_count": 9
    }
   ],
   "source": [
    "def reverseParentheses(S):\n",
    "    stack = []\n",
    "    intervals = []\n",
    "    l = len(S)\n",
    "        \n",
    "    for i in range(l):\n",
    "        if S[i] == '(':\n",
    "            stack.append(i)\n",
    "        elif S[i] == ')':\n",
    "            left = stack.pop() +1\n",
    "            right = i\n",
    "            intervals.append([left, right])\n",
    "    S = list(S)\n",
    "    for interval in intervals:\n",
    "        S[interval[0]:interval[1]] = S[interval[0]:interval[1]][::-1]\n",
    "    S = filter(lambda x: x != \"(\" and x !=\")\", S)\n",
    "\n",
    "    return \"\".join(S)\n",
    "\n",
    "reverseParentheses(\"a(sdfcb)ad\")"
   ],
   "metadata": {
    "collapsed": false,
    "pycharm": {
     "name": "#%%\n",
     "is_executing": false
    }
   }
  },
  {
   "cell_type": "code",
   "execution_count": null,
   "outputs": [],
   "source": [],
   "metadata": {
    "collapsed": false,
    "pycharm": {
     "name": "#%%\n"
    }
   }
  },
  {
   "cell_type": "code",
   "execution_count": 16,
   "outputs": [
    {
     "name": "stdout",
     "text": [
      "['r', 'rr', '', 'rrr', '', '', 'r', '']\n['', 'l', '', 'll', '', '', 'lll', 'l']\n"
     ],
     "output_type": "stream"
    }
   ],
   "source": [
    "s = 'rlrrllrlllr'\n",
    "c = s.split('l')\n",
    "c\n",
    "s2 = 'rlrrllrrrlllrl'\n",
    "c2 = s2.split('l')\n",
    "c3 = s2.split('r')\n",
    "print(c2)\n",
    "print(c3)"
   ],
   "metadata": {
    "collapsed": false,
    "pycharm": {
     "name": "#%%\n",
     "is_executing": false
    }
   }
  },
  {
   "cell_type": "code",
   "execution_count": 18,
   "outputs": [
    {
     "name": "stdout",
     "text": [
      "65 97\n"
     ],
     "output_type": "stream"
    }
   ],
   "source": [
    "print(ord('A'), ord('a'))\n"
   ],
   "metadata": {
    "collapsed": false,
    "pycharm": {
     "name": "#%%\n",
     "is_executing": false
    }
   }
  }
 ],
 "metadata": {
  "language_info": {
   "codemirror_mode": {
    "name": "ipython",
    "version": 2
   },
   "file_extension": ".py",
   "mimetype": "text/x-python",
   "name": "python",
   "nbconvert_exporter": "python",
   "pygments_lexer": "ipython2",
   "version": "2.7.6"
  },
  "kernelspec": {
   "name": "python3",
   "language": "python",
   "display_name": "Python 3"
  },
  "pycharm": {
   "stem_cell": {
    "cell_type": "raw",
    "source": [],
    "metadata": {
     "collapsed": false
    }
   }
  }
 },
 "nbformat": 4,
 "nbformat_minor": 0
}
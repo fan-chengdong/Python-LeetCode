{
 "cells": [
  {
   "cell_type": "code",
   "execution_count": null,
   "metadata": {
    "collapsed": true
   },
   "outputs": [],
   "source": []
  },
  {
   "cell_type": "markdown",
   "source": [
    "## 动态规划\n",
    "\n",
    "动态规划（Dynamic Programming）是一种分阶段求解策略问题的数学思想。\n",
    "\n",
    "动态规划中包含三个重要概念：最优子结构、边界、状态转移公式。\n",
    "\n",
    "最优子结构，求解一个问题时，首先要找出问题的最优子结构；\n",
    "边界，边界是最简的最优子结构，无需再简化便可得到结果；如果一个问题没有边界，将无法得到有限的结果；\n",
    "状态转换方程，是阶段与阶段直接的转换关系\n",
    "\n",
    "### 求解过程\n",
    "1.确定状态\n",
    "研究最优策略的最后一步，转化为子问题，定义最优子结构\n",
    "\n",
    "2.转换方式\n",
    "根据子问题定义和最后一步求解过程，抽象出状态转换方程\n",
    "\n",
    "3.初始条件和边界情况\n",
    "\n",
    "4.计算顺序\n",
    "利用之前的计算结果\n",
    "\n",
    "### 坐标型动态规划\n",
    "1.给定不同面额的硬币和一个总金额。写出函数来计算可以凑成总金额的硬币组合数。\n",
    "假设每一种面额的硬币有无限个。"
   ],
   "metadata": {
    "collapsed": false
   }
  },
  {
   "cell_type": "code",
   "execution_count": null,
   "outputs": [],
   "source": [
    "def change(self, amount: int, coins: List[int]) -> int: \n",
    "    dp = [0 for i in range(amount+1)]\n",
    "    dp[0] = 1\n",
    "    for i in coins:\n",
    "        for j in range(i, amount+1):\n",
    "            dp[j] = dp[j] + dp[j-i]\n",
    "    return dp[amount]"
   ],
   "metadata": {
    "collapsed": false,
    "pycharm": {
     "name": "#%%\n"
    }
   }
  },
  {
   "cell_type": "markdown",
   "source": [
    "2.给定一个包含非负整数的 m x n 网格，请找出一条从左上角到右下角的路径，使得路径上的数字总和为最小。\n",
    "说明：每次只能向下或者向右移动一步。\n"
   ],
   "metadata": {
    "collapsed": false
   }
  },
  {
   "cell_type": "code",
   "execution_count": 65,
   "outputs": [],
   "source": [
    "def minPathSum(grid):\n",
    "    m = len(grid)\n",
    "    n = len(grid[0])\n",
    "    step = m + n - 2\n",
    "    dp  = [0 for _ in range(n)]\n",
    "    dp[0] = grid[0][0]\n",
    "    for i in range(m):\n",
    "        for j in range(n):\n",
    "            if i  ==0 and j==0:\n",
    "                dp[j] = grid[i][j]\n",
    "            elif i!=0 and j == 0:\n",
    "                dp[j] = dp[j] + grid[i][j]\n",
    "            elif i == 0 and j !=0: \n",
    "                dp[j] = dp[j-1] + grid[i][j]\n",
    "            else:\n",
    "                dp[j] = min(dp[j], dp[j-1]) + grid[i][j]\n",
    "            # dp[j] = min(dp[j], dp[j-1]) + grid[i][j]\n",
    "    print(dp)\n",
    "    return dp[-1]"
   ],
   "metadata": {
    "collapsed": false,
    "pycharm": {
     "name": "#%%\n",
     "is_executing": false
    }
   }
  },
  {
   "cell_type": "code",
   "execution_count": 66,
   "outputs": [
    {
     "name": "stdout",
     "text": [
      "[6, 8, 7]\n"
     ],
     "output_type": "stream"
    },
    {
     "data": {
      "text/plain": "7"
     },
     "metadata": {},
     "output_type": "execute_result",
     "execution_count": 66
    }
   ],
   "source": [
    "minPathSum([[1,3,1],[1,5,1],[4,2,1]])"
   ],
   "metadata": {
    "collapsed": false,
    "pycharm": {
     "name": "#%%\n",
     "is_executing": false
    }
   }
  },
  {
   "cell_type": "code",
   "execution_count": 8,
   "outputs": [
    {
     "name": "stdout",
     "text": [
      "0 0\n1 0\n0 1\n1 1\n0 2\n1 2\n"
     ],
     "output_type": "stream"
    }
   ],
   "source": [
    "for i in range(3):\n",
    "    for j in range(2):\n",
    "        print(j,i)\n"
   ],
   "metadata": {
    "collapsed": false,
    "pycharm": {
     "name": "#%%\n",
     "is_executing": false
    }
   }
  },
  {
   "cell_type": "markdown",
   "source": [
    "3.最长上升子序列\n",
    "给定一个无序的整数数组，找到其中最长上升子序列的长度\n",
    "\n",
    "解题思路：\n",
    "状态定义：\n",
    "\n",
    "dp[i]dp[i] 的值代表 nums 前 ii 个数字的最长子序列长度。\n",
    "转移方程： 设 j∈[0,i)j∈[0,i)，考虑每轮计算新 dp[i]dp[i] 时，遍历 [0,i)[0,i) 列表区间，做以下判断：\n",
    "\n",
    "当 nums[i] > nums[j]nums[i]>nums[j] 时： nums[i]nums[i] 可以接在 nums[j]nums[j] 之后（此题要求严格递增），此情况下最长上升子序列长度为 dp[j] + 1dp[j]+1 ；\n",
    "当 nums[i] <= nums[j]nums[i]<=nums[j] 时： nums[i]nums[i] 无法接在 nums[j]nums[j] 之后，此情况上升子序列不成立，跳过。\n",
    "上述所有 1. 情况 下计算出的 dp[j] + 1dp[j]+1 的最大值，为直到 ii 的最长上升子序列长度（即 dp[i]dp[i] ）。实现方式为遍历 jj 时，每轮执行 dp[i] = max(dp[i], dp[j] + 1)dp[i]=max(dp[i],dp[j]+1)。\n",
    "转移方程： dp[i] = max(dp[i], dp[j] + 1) for j in [0, i)。\n",
    "初始状态：\n",
    "\n",
    "dp[i] 所有元素置 1，含义是每个元素都至少可以单独成为子序列，此时长度都为 11。\n",
    "返回值：\n",
    "\n",
    "返回 dp 列表最大值，即可得到全局最长上升子序列长度。\n",
    "。\n",
    "O(N2)\n",
    "O(N)"
   ],
   "metadata": {
    "collapsed": false
   }
  },
  {
   "cell_type": "code",
   "execution_count": 103,
   "outputs": [],
   "source": [
    "def lengthOfLIS(nums):\n",
    "    n = len(nums)\n",
    "    dp = [1]*n\n",
    "    if n <= 1:\n",
    "        return n\n",
    "    for i in range(1,n):\n",
    "        for j in range(i):\n",
    "            if nums[j] < nums[i]:\n",
    "                dp[i] = max(dp[i], dp[j] + 1)\n",
    "    return max(dp)"
   ],
   "metadata": {
    "collapsed": false,
    "pycharm": {
     "name": "#%%\n",
     "is_executing": false
    }
   }
  },
  {
   "cell_type": "code",
   "execution_count": 104,
   "outputs": [
    {
     "data": {
      "text/plain": "4"
     },
     "metadata": {},
     "output_type": "execute_result",
     "execution_count": 104
    }
   ],
   "source": [
    "lengthOfLIS([10,9,2,5,3,7,101,18])"
   ],
   "metadata": {
    "collapsed": false,
    "pycharm": {
     "name": "#%%\n",
     "is_executing": false
    }
   }
  },
  {
   "cell_type": "code",
   "execution_count": null,
   "outputs": [],
   "source": [
    "# Dynamic programming + Dichotomy.\n",
    "class Solution:\n",
    "    def lengthOfLIS(nums):\n",
    "        tails, res = [0] * len(nums), 0\n",
    "        for num in nums:\n",
    "            i, j = 0, res\n",
    "            while i < j:\n",
    "                m = (i + j) // 2\n",
    "                if tails[m] < num: i = m + 1 # 如果要求非严格递增，将此行 '<' 改为 '<=' 即可。\n",
    "                else: j = m\n",
    "            tails[i] = num\n",
    "            if j == res: res += 1\n",
    "        return res\n"
   ],
   "metadata": {
    "collapsed": false,
    "pycharm": {
     "name": "#%%\n"
    }
   }
  },
  {
   "cell_type": "markdown",
   "source": [
    "最长公共子序列\n",
    "给定两个字符串 text1 和 text2，返回这两个字符串的最长公共子序列\n",
    "二维动态规划"
   ],
   "metadata": {
    "collapsed": false
   }
  },
  {
   "cell_type": "code",
   "execution_count": 168,
   "outputs": [],
   "source": [
    "def longestCommonSubsequence(text1, text2):\n",
    "    if len(text1) >= len(text2):\n",
    "        text1, text2 = text2, text1\n",
    "    size = len(text1)\n",
    "    dp = [1] * size\n",
    "    if size <= 1 and text1 not in text2:\n",
    "        return 0  \n",
    "    for i in range(0,size):\n",
    "        for j in range(i):\n",
    "            # print(text1[1])\n",
    "            # print(text1[i])\n",
    "            if text1[i] in text2:\n",
    "                dp[i] = max(dp[i], dp[j] +1)\n",
    "                # print(i)\n",
    "            else:\n",
    "                # print(i)\n",
    "                dp[i] = 0\n",
    "    print(dp)\n",
    "    return dp[-1]"
   ],
   "metadata": {
    "collapsed": false,
    "pycharm": {
     "name": "#%%\n",
     "is_executing": false
    }
   }
  },
  {
   "cell_type": "code",
   "execution_count": 169,
   "outputs": [
    {
     "name": "stdout",
     "text": [
      "b\nc\nc\nd\nd\nd\ne\ne\ne\ne\no\no\no\no\no\nl\nl\nl\nl\nl\nl\n[0, 0, 1, 0, 2, 3, 4]\n"
     ],
     "output_type": "stream"
    },
    {
     "data": {
      "text/plain": "4"
     },
     "metadata": {},
     "output_type": "execute_result",
     "execution_count": 169
    }
   ],
   "source": [
    "longestCommonSubsequence('aceolms','abcdeol')"
   ],
   "metadata": {
    "collapsed": false,
    "pycharm": {
     "name": "#%%\n",
     "is_executing": false
    }
   }
  },
  {
   "cell_type": "code",
   "execution_count": 170,
   "outputs": [
    {
     "data": {
      "text/plain": "0"
     },
     "metadata": {},
     "output_type": "execute_result",
     "execution_count": 170
    }
   ],
   "source": [
    "longestCommonSubsequence('a','n')"
   ],
   "metadata": {
    "collapsed": false,
    "pycharm": {
     "name": "#%%\n",
     "is_executing": false
    }
   }
  },
  {
   "cell_type": "code",
   "execution_count": null,
   "outputs": [],
   "source": [],
   "metadata": {
    "collapsed": false,
    "pycharm": {
     "name": "#%%\n"
    }
   }
  },
  {
   "cell_type": "markdown",
   "source": [
    "\n",
    "### 序列型动态规划\n",
    "\n",
    "198. 不相邻数 和 的 最大值\n"
   ],
   "metadata": {
    "collapsed": false
   }
  },
  {
   "cell_type": "code",
   "execution_count": 27,
   "outputs": [],
   "source": [
    "def rob(nums):\n",
    "        n = len(nums)\n",
    "        if n == 0:\n",
    "            return 0\n",
    "        elif n == 1:\n",
    "            return nums[0]\n",
    "        else:\n",
    "            dp = [0] * (n+1)\n",
    "            dp[1] = nums[0]\n",
    "            for i in range(1,n+1):\n",
    "                dp[i] = max(dp[i-1], dp[i-2]+nums[i-1])\n",
    "            return dp[-1]"
   ],
   "metadata": {
    "collapsed": false,
    "pycharm": {
     "name": "#%%\n",
     "is_executing": false
    }
   }
  },
  {
   "cell_type": "code",
   "execution_count": 28,
   "outputs": [
    {
     "data": {
      "text/plain": "4"
     },
     "metadata": {},
     "output_type": "execute_result",
     "execution_count": 28
    }
   ],
   "source": [
    "rob([1,2,3,1])"
   ],
   "metadata": {
    "collapsed": false,
    "pycharm": {
     "name": "#%%\n",
     "is_executing": false
    }
   }
  },
  {
   "cell_type": "markdown",
   "source": [
    "121 买股票的最佳时机\n",
    "给定一个数组，它的第 i 个元素是一支给定股票第 i 天的价格。\n",
    "\n",
    "如果你最多只允许完成一笔交易（即买入和卖出一支股票），设计一个算法来计算你所能获取的最大利润。\n",
    "\n",
    "注意你不能在买入股票前卖出股票。"
   ],
   "metadata": {
    "collapsed": false
   }
  },
  {
   "cell_type": "code",
   "execution_count": 29,
   "outputs": [],
   "source": [
    "def maxProfit(prices):\n",
    "    n = len(prices)\n",
    "    if n <= 1:\n",
    "        return 0\n",
    "    dp = [0] * n\n",
    "    minPrice = prices[0]\n",
    "    for i in range(1, n):\n",
    "        minPrice = min(minPrice, prices[i])\n",
    "        dp[i] = max(dp[i-1], prices[i] - minPrice)\n",
    "    return dp[-1]"
   ],
   "metadata": {
    "collapsed": false,
    "pycharm": {
     "name": "#%%\n",
     "is_executing": false
    }
   }
  },
  {
   "cell_type": "code",
   "execution_count": 30,
   "outputs": [
    {
     "data": {
      "text/plain": "5"
     },
     "metadata": {},
     "output_type": "execute_result",
     "execution_count": 30
    }
   ],
   "source": [
    "maxProfit([7,1,5,3,6,4])"
   ],
   "metadata": {
    "collapsed": false,
    "pycharm": {
     "name": "#%%\n",
     "is_executing": false
    }
   }
  },
  {
   "cell_type": "markdown",
   "source": [
    "122 多次买卖"
   ],
   "metadata": {
    "collapsed": false
   }
  },
  {
   "cell_type": "code",
   "execution_count": 31,
   "outputs": [],
   "source": [
    "# 贪心\n",
    "def maxProfit2(prices):\n",
    "    profit = 0\n",
    "    for i in range(1,len(prices)):\n",
    "        tmp = prices[i] - prices[i-1]\n",
    "        if tmp > 0:\n",
    "            profit += tmp\n",
    "    return profit"
   ],
   "metadata": {
    "collapsed": false,
    "pycharm": {
     "name": "#%%\n",
     "is_executing": false
    }
   }
  },
  {
   "cell_type": "code",
   "execution_count": 32,
   "outputs": [
    {
     "data": {
      "text/plain": "7"
     },
     "metadata": {},
     "output_type": "execute_result",
     "execution_count": 32
    }
   ],
   "source": [
    "maxProfit2([7,1,5,3,6,4])"
   ],
   "metadata": {
    "collapsed": false,
    "pycharm": {
     "name": "#%%\n",
     "is_executing": false
    }
   }
  },
  {
   "cell_type": "code",
   "execution_count": 37,
   "outputs": [],
   "source": [
    "# 动态规划\n",
    "# 二维动态规划\n",
    "# 使用二维数组\n",
    "# dp[i] :前i天最大收益\n",
    "# dp[i][0]: 第i天持有现金\n",
    "# dp[i][1]: 第i天持有股票（支出现金）\n",
    "def dpMaxProfit(prices):\n",
    "    n = len(prices)\n",
    "    if n <= 1:\n",
    "        return 0\n",
    "    dp = [[0]*2]*n\n",
    "    dp[0][0] = 0\n",
    "    dp[0][1] = -prices[0]\n",
    "    for i in range(1,n):\n",
    "        dp[i][0] = max(dp[i-1][0], dp[i-1][1] + prices[i])\n",
    "        dp[i][1] = max(dp[i-1][1], dp[i-1][0] - prices[i])\n",
    "    return dp[n-1][0]"
   ],
   "metadata": {
    "collapsed": false,
    "pycharm": {
     "name": "#%%\n",
     "is_executing": false
    }
   }
  },
  {
   "cell_type": "code",
   "execution_count": 38,
   "outputs": [
    {
     "data": {
      "text/plain": "7"
     },
     "metadata": {},
     "output_type": "execute_result",
     "execution_count": 38
    }
   ],
   "source": [
    "maxProfit2([7,1,5,3,6,4])\n"
   ],
   "metadata": {
    "collapsed": false,
    "pycharm": {
     "name": "#%%\n",
     "is_executing": false
    }
   }
  },
  {
   "cell_type": "markdown",
   "source": [
    "123 最多两笔交易，不能同时参与多个交易"
   ],
   "metadata": {
    "collapsed": false
   }
  },
  {
   "cell_type": "code",
   "execution_count": 46,
   "outputs": [],
   "source": [
    "def maxProfit3(prices):\n",
    "    n = len(prices)\n",
    "    if n <= 1:\n",
    "        return 0\n",
    "    dp = [[0]*5]*n\n",
    "    dp[0][0] = 0\n",
    "    dp[0][1] = -prices[0]\n",
    "    for i in range(1, n):\n",
    "        dp[i][0] = 0\n",
    "        dp[i][1] = max(dp[i-1][1], dp[i-1][0] - prices[i])\n",
    "        dp[i][2] = max(dp[i-1][2], dp[i-1][1] + prices[i])\n",
    "        dp[i][3] = max(dp[i-1][3], dp[i-1][2] - prices[i])\n",
    "        dp[i][4] = max(dp[i-1][4], dp[i-1][3] + prices[i])\n",
    "    print(dp)\n",
    "    return max(0, max(dp[n-1][2],dp[n-1][4]))"
   ],
   "metadata": {
    "collapsed": false,
    "pycharm": {
     "name": "#%%\n",
     "is_executing": false
    }
   }
  },
  {
   "cell_type": "code",
   "execution_count": 47,
   "outputs": [
    {
     "name": "stdout",
     "text": [
      "[[0, -1, 4, 0, 5], [0, -1, 4, 0, 5], [0, -1, 4, 0, 5], [0, -1, 4, 0, 5], [0, -1, 4, 0, 5]]\n"
     ],
     "output_type": "stream"
    },
    {
     "data": {
      "text/plain": "5"
     },
     "metadata": {},
     "output_type": "execute_result",
     "execution_count": 47
    }
   ],
   "source": [
    "maxProfit3([1,2,3,4,5])"
   ],
   "metadata": {
    "collapsed": false,
    "pycharm": {
     "name": "#%%\n",
     "is_executing": false
    }
   }
  },
  {
   "cell_type": "code",
   "execution_count": 120,
   "outputs": [
    {
     "data": {
      "text/plain": "4"
     },
     "metadata": {},
     "output_type": "execute_result",
     "execution_count": 120
    }
   ],
   "source": [
    "def maxProfit32(prices):\n",
    "    n = len(prices)\n",
    "    if n <= 1:\n",
    "        return 0\n",
    "    dp = [[0]* n for _ in range(3)]\n",
    "    for k in range(1, 3):\n",
    "        pre = -prices[0]\n",
    "        for i in range(1, n):\n",
    "            pre = max(pre, dp[k-1][i-1] - prices[i])\n",
    "            dp[k][i] = max(dp[k][i-1], prices[i] + pre)\n",
    "    return dp[-1][-1]\n",
    "maxProfit32([1,2,3,4,5])"
   ],
   "metadata": {
    "collapsed": false,
    "pycharm": {
     "name": "#%%\n",
     "is_executing": false
    }
   }
  },
  {
   "cell_type": "markdown",
   "source": [
    "188 完成k次交易"
   ],
   "metadata": {
    "collapsed": false,
    "pycharm": {
     "name": "#%% md\n"
    }
   }
  },
  {
   "cell_type": "code",
   "execution_count": 116,
   "outputs": [],
   "source": [
    "def maxProfitK(prices, k):\n",
    "    n = len(prices)\n",
    "    if n <= 1:\n",
    "        return 0\n",
    "    dp = [[0]*(k+1)]*n\n",
    "    # dp[0][0] = 0\n",
    "    m = [0] *(k+1)\n",
    "    for i in range(1,k):\n",
    "        m[i] = prices[0]\n",
    "    for i in range(1,n):\n",
    "        for j in range(1, k):\n",
    "            m[j] = min(prices[i] - dp[i][j-1], m[j])\n",
    "            dp[i][j] = max(dp[i-1][j], prices[i] - m[j])\n",
    "    print(dp)\n",
    "    return dp[n-1][k]"
   ],
   "metadata": {
    "collapsed": false,
    "pycharm": {
     "name": "#%%\n",
     "is_executing": false
    }
   }
  },
  {
   "cell_type": "code",
   "execution_count": 117,
   "outputs": [
    {
     "name": "stdout",
     "text": [
      "[[0, 2, 0], [0, 2, 0], [0, 2, 0]]\n"
     ],
     "output_type": "stream"
    },
    {
     "data": {
      "text/plain": "0"
     },
     "metadata": {},
     "output_type": "execute_result",
     "execution_count": 117
    }
   ],
   "source": [
    "maxProfitK([2,4,1],2)"
   ],
   "metadata": {
    "collapsed": false,
    "pycharm": {
     "name": "#%%\n",
     "is_executing": false
    }
   }
  },
  {
   "cell_type": "code",
   "execution_count": 118,
   "outputs": [
    {
     "name": "stdout",
     "text": [
      "[[0, 4, 0], [0, 4, 0], [0, 4, 0], [0, 4, 0], [0, 4, 0], [0, 4, 0]]\n"
     ],
     "output_type": "stream"
    },
    {
     "data": {
      "text/plain": "0"
     },
     "metadata": {},
     "output_type": "execute_result",
     "execution_count": 118
    }
   ],
   "source": [
    "maxProfitK([3,2,6,5,0,3],2)"
   ],
   "metadata": {
    "collapsed": false,
    "pycharm": {
     "name": "#%%\n",
     "is_executing": false
    }
   }
  },
  {
   "cell_type": "code",
   "execution_count": 123,
   "outputs": [],
   "source": [
    "def maxProfitK2(prices, K):\n",
    "    n = len(prices)\n",
    "    if n <= 1:\n",
    "        return 0\n",
    "    dp = [[0]* n for _ in range(K+1)]\n",
    "    for k in range(1, K):\n",
    "        pre = -prices[0]\n",
    "        for i in range(1, n):\n",
    "            pre = max(pre, dp[k-1][i-1] - prices[i])\n",
    "            dp[k][i] = max(dp[k][i-1], prices[i] + pre)\n",
    "    print(dp)\n",
    "    return dp[-1][-1]"
   ],
   "metadata": {
    "collapsed": false,
    "pycharm": {
     "name": "#%%\n",
     "is_executing": false
    }
   }
  },
  {
   "cell_type": "code",
   "execution_count": 124,
   "outputs": [
    {
     "name": "stdout",
     "text": [
      "[[0, 0, 0], [0, 2, 2], [0, 0, 0]]\n"
     ],
     "output_type": "stream"
    },
    {
     "data": {
      "text/plain": "0"
     },
     "metadata": {},
     "output_type": "execute_result",
     "execution_count": 124
    }
   ],
   "source": [
    "maxProfitK2([2,4,1],)"
   ],
   "metadata": {
    "collapsed": false,
    "pycharm": {
     "name": "#%%\n",
     "is_executing": false
    }
   }
  },
  {
   "cell_type": "code",
   "execution_count": 125,
   "outputs": [
    {
     "name": "stdout",
     "text": [
      "[[0, 4, 0], [0, 4, 0], [0, 4, 0], [0, 4, 0], [0, 4, 0], [0, 4, 0]]\n"
     ],
     "output_type": "stream"
    },
    {
     "data": {
      "text/plain": "0"
     },
     "metadata": {},
     "output_type": "execute_result",
     "execution_count": 125
    }
   ],
   "source": [
    "maxProfitK([3,2,6,5,0,3],2)"
   ],
   "metadata": {
    "collapsed": false,
    "pycharm": {
     "name": "#%%\n",
     "is_executing": false
    }
   }
  },
  {
   "cell_type": "code",
   "execution_count": 129,
   "outputs": [
    {
     "name": "stdout",
     "text": [
      "[[0, 0], [0, 0], [0, 0]]\n"
     ],
     "output_type": "stream"
    }
   ],
   "source": [
    "dp = [[0]* 2 ]*3\n",
    "print(dp)"
   ],
   "metadata": {
    "collapsed": false,
    "pycharm": {
     "name": "#%%\n",
     "is_executing": false
    }
   }
  },
  {
   "cell_type": "code",
   "execution_count": null,
   "outputs": [],
   "source": [],
   "metadata": {
    "collapsed": false,
    "pycharm": {
     "name": "#%%\n"
    }
   }
  },
  {
   "cell_type": "code",
   "execution_count": null,
   "outputs": [],
   "source": [],
   "metadata": {
    "collapsed": false,
    "pycharm": {
     "name": "#%%\n"
    }
   }
  },
  {
   "cell_type": "code",
   "execution_count": null,
   "outputs": [],
   "source": [],
   "metadata": {
    "collapsed": false,
    "pycharm": {
     "name": "#%%\n"
    }
   }
  },
  {
   "cell_type": "code",
   "execution_count": null,
   "outputs": [],
   "source": [],
   "metadata": {
    "collapsed": false,
    "pycharm": {
     "name": "#%%\n"
    }
   }
  },
  {
   "cell_type": "code",
   "execution_count": null,
   "outputs": [],
   "source": [],
   "metadata": {
    "collapsed": false,
    "pycharm": {
     "name": "#%%\n"
    }
   }
  },
  {
   "cell_type": "markdown",
   "source": [
    "### 划分型动态规划\n",
    "\n",
    "给定长度为N的序列，要求划分为若干段\n",
    " 1.段数不限，或指定K段\n",
    " 2.每一段满足一定的性质（最小代价，能不能等）\n",
    "做法：\n",
    " 1.类似于序列型动态规划，但是通常要加上段数信息\n",
    " 2.一般用f[i + 1][k]来记录前i个元素（元素0~i-1,f[0][k]表示空序列）分成k段的性质，如最小代价\n",
    " 3.关注最后一段，枚举最后一段可能情况 + 前面序列, 求最优策略\n",
    "注意：划分型动态规划每一段序列一定是连续的"
   ],
   "metadata": {
    "collapsed": false
   }
  },
  {
   "cell_type": "markdown",
   "source": [
    "279 .完全平方数\n",
    "12 = 4 + 4 + 4\n",
    "1.动态规划"
   ],
   "metadata": {
    "collapsed": false
   }
  },
  {
   "cell_type": "code",
   "execution_count": 1,
   "outputs": [],
   "source": [
    "def numSquare(n):\n",
    "    dp = [x for x in range(n+1)]\n",
    "    for i in range(2,n+1):\n",
    "        for j in range(1,int(i**0.5)+1):\n",
    "            dp[i] = min(dp[i], dp[i-j*j]+1)\n",
    "    return dp[-1]\n"
   ],
   "metadata": {
    "collapsed": false,
    "pycharm": {
     "name": "#%%\n",
     "is_executing": false
    }
   }
  },
  {
   "cell_type": "code",
   "execution_count": 2,
   "outputs": [
    {
     "data": {
      "text/plain": "3"
     },
     "metadata": {},
     "output_type": "execute_result",
     "execution_count": 2
    }
   ],
   "source": [
    "numSquare(12)"
   ],
   "metadata": {
    "collapsed": false,
    "pycharm": {
     "name": "#%%\n",
     "is_executing": false
    }
   }
  },
  {
   "cell_type": "markdown",
   "source": [
    "2.广度优先搜索"
   ],
   "metadata": {
    "collapsed": false
   }
  },
  {
   "cell_type": "code",
   "execution_count": null,
   "outputs": [],
   "source": [],
   "metadata": {
    "collapsed": false,
    "pycharm": {
     "name": "#%%\n"
    }
   }
  },
  {
   "cell_type": "markdown",
   "source": [
    "343  整数拆分\n",
    "给定一个正整数 n，将其拆分为至少两个正整数的和，并使这些整数的乘积最大化。 返回你可以获得的最大乘积。\n"
   ],
   "metadata": {
    "collapsed": false
   }
  },
  {
   "cell_type": "code",
   "execution_count": 17,
   "outputs": [],
   "source": [
    "def integerBreak(n):\n",
    "    dp = [x for x in range(n+1)]\n",
    "    dp[0] = 0\n",
    "    dp[1] = 1\n",
    "    for i in range(2,n+1):\n",
    "        for j in range(1, i):\n",
    "            dp[i] = max(dp[i], j*(i-j), dp[i-j]*j)\n",
    "    print(dp)\n",
    "    return dp[-1]"
   ],
   "metadata": {
    "collapsed": false,
    "pycharm": {
     "name": "#%%\n",
     "is_executing": false
    }
   }
  },
  {
   "cell_type": "code",
   "execution_count": 23,
   "outputs": [
    {
     "name": "stdout",
     "text": [
      "[0, 1, 1, 2]\n"
     ],
     "output_type": "stream"
    },
    {
     "data": {
      "text/plain": "2"
     },
     "metadata": {},
     "output_type": "execute_result",
     "execution_count": 23
    }
   ],
   "source": [
    "def integerBreak2(n):\n",
    "    dp = [1] * (n+1)\n",
    "    dp[0] = 0\n",
    "    for i in range(2,n+1):\n",
    "        for j in range(1, i):\n",
    "            dp[i] = max(dp[i],j*(i-j), dp[i-j]*j)\n",
    "    print(dp)\n",
    "    return dp[-1]\n",
    "integerBreak2(3)"
   ],
   "metadata": {
    "collapsed": false,
    "pycharm": {
     "name": "#%%\n",
     "is_executing": false
    }
   }
  },
  {
   "cell_type": "markdown",
   "source": [
    "91 解码方法"
   ],
   "metadata": {
    "collapsed": false
   }
  },
  {
   "cell_type": "code",
   "execution_count": 4,
   "outputs": [],
   "source": [
    "def code(s):\n",
    "    size = len(s)\n",
    "    if size == 0:\n",
    "        return 0\n",
    "    dp = [0] * (size+1)\n",
    "    dp[0] = 1\n",
    "    for i in range(1,size+1):\n",
    "        t = int(s[i-1])\n",
    "        if t>0 and t<=9:\n",
    "            dp[i] += dp[i-1]\n",
    "        if i>=2:\n",
    "            t = int(s[i-2])*10 + int(s[i-1])\n",
    "            if t>=10 and t<=26:\n",
    "                dp[i] += dp[i-2]\n",
    "    return dp[-1]\n",
    "        "
   ],
   "metadata": {
    "collapsed": false,
    "pycharm": {
     "name": "#%%\n",
     "is_executing": false
    }
   }
  },
  {
   "cell_type": "code",
   "execution_count": 5,
   "outputs": [
    {
     "data": {
      "text/plain": "3"
     },
     "metadata": {},
     "output_type": "execute_result",
     "execution_count": 5
    }
   ],
   "source": [
    "code('226')"
   ],
   "metadata": {
    "collapsed": false,
    "pycharm": {
     "name": "#%%\n",
     "is_executing": false
    }
   }
  },
  {
   "cell_type": "markdown",
   "source": [
    "132. 分割回文串\n",
    "给定一个字符串 s，将 s 分割成一些子串，使每个子串都是回文串。\n",
    "\n",
    "返回符合要求的最少分割次数。"
   ],
   "metadata": {
    "collapsed": false
   }
  },
  {
   "cell_type": "code",
   "execution_count": 31,
   "outputs": [],
   "source": [
    "def minCut(s):\n",
    "    size = len(s)\n",
    "    dp = [i for i in range(size)]\n",
    "    for i in range(1,size):\n",
    "        if s[:i+1] == s[:i+1][::-1]:\n",
    "            dp[i] = 0\n",
    "            continue\n",
    "        dp[i] = min([dp[j]+1 for j in range(i) if s[j+1:i+1] == s[j+1:i+1][::-1]])\n",
    "    print(dp)\n",
    "    return dp[size-1]"
   ],
   "metadata": {
    "collapsed": false,
    "pycharm": {
     "name": "#%%\n",
     "is_executing": false
    }
   }
  },
  {
   "cell_type": "code",
   "execution_count": 33,
   "outputs": [
    {
     "name": "stdout",
     "text": [
      "[0, 0, 1]\n"
     ],
     "output_type": "stream"
    },
    {
     "data": {
      "text/plain": "1"
     },
     "metadata": {},
     "output_type": "execute_result",
     "execution_count": 33
    }
   ],
   "source": [
    "minCut(\"aab\")"
   ],
   "metadata": {
    "collapsed": false,
    "pycharm": {
     "name": "#%%\n",
     "is_executing": false
    }
   }
  },
  {
   "cell_type": "markdown",
   "source": [
    "410 分割数组的最大值\n",
    "给定一个非负整数数组和一个整数 m，你需要将这个数组分成 m 个非空的连续子数\n",
    "设计一个算法使得这 m 个子数组各自和的最大值最小。"
   ],
   "metadata": {
    "collapsed": false
   }
  },
  {
   "cell_type": "code",
   "execution_count": null,
   "outputs": [],
   "source": [
    "def splitArray(nums, m):\n",
    "    pass"
   ],
   "metadata": {
    "collapsed": false,
    "pycharm": {
     "name": "#%%\n"
    }
   }
  },
  {
   "cell_type": "markdown",
   "source": [
    "1235 规划兼职工作"
   ],
   "metadata": {
    "collapsed": false,
    "pycharm": {
     "name": "#%% md\n"
    }
   }
  },
  {
   "cell_type": "code",
   "execution_count": null,
   "outputs": [],
   "source": [
    "import typing\n",
    "class job()\n",
    "def jobScheduling(startTime, endTime, profit):\n",
    "    start:int\n"
   ],
   "metadata": {
    "collapsed": false,
    "pycharm": {
     "name": "#%%\n"
    }
   }
  }
 ],
 "metadata": {
  "language_info": {
   "codemirror_mode": {
    "name": "ipython",
    "version": 2
   },
   "file_extension": ".py",
   "mimetype": "text/x-python",
   "name": "python",
   "nbconvert_exporter": "python",
   "pygments_lexer": "ipython2",
   "version": "2.7.6"
  },
  "kernelspec": {
   "name": "python3",
   "language": "python",
   "display_name": "Python 3"
  },
  "pycharm": {
   "stem_cell": {
    "cell_type": "raw",
    "source": [],
    "metadata": {
     "collapsed": false
    }
   }
  }
 },
 "nbformat": 4,
 "nbformat_minor": 0
}